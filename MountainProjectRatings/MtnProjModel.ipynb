{
  "nbformat": 4,
  "nbformat_minor": 0,
  "metadata": {
    "colab": {
      "name": "MtnProjModel.ipynb",
      "version": "0.3.2",
      "provenance": [],
      "collapsed_sections": [
        "B8RyBTb5uyHH",
        "1WpCApbWSLEY"
      ]
    },
    "kernelspec": {
      "name": "python3",
      "display_name": "Python 3"
    },
    "accelerator": "TPU"
  },
  "cells": [
    {
      "cell_type": "markdown",
      "metadata": {
        "id": "gIWTCcTYifVn",
        "colab_type": "text"
      },
      "source": [
        "### Mount Google Drive for file access"
      ]
    },
    {
      "cell_type": "code",
      "metadata": {
        "id": "RN7esajnN0MB",
        "colab_type": "code",
        "outputId": "4bd0cfd1-cc88-4873-f035-c864581b017c",
        "colab": {
          "base_uri": "https://localhost:8080/",
          "height": 34
        }
      },
      "source": [
        "from google.colab import drive\n",
        "drive.mount('/content/gdrive')"
      ],
      "execution_count": 2,
      "outputs": [
        {
          "output_type": "stream",
          "text": [
            "Drive already mounted at /content/gdrive; to attempt to forcibly remount, call drive.mount(\"/content/gdrive\", force_remount=True).\n"
          ],
          "name": "stdout"
        }
      ]
    },
    {
      "cell_type": "markdown",
      "metadata": {
        "id": "zr3pBoV4iq_6",
        "colab_type": "text"
      },
      "source": [
        "### Import cleaned dataset"
      ]
    },
    {
      "cell_type": "code",
      "metadata": {
        "id": "P3VRcUvYN90s",
        "colab_type": "code",
        "colab": {
          "base_uri": "https://localhost:8080/",
          "height": 236
        },
        "outputId": "f7c9f9e0-5b6b-4fad-c13f-aba8f0db7896"
      },
      "source": [
        "import pandas as pd\n",
        "\n",
        "# load and preview dataframe\n",
        "df = pd.read_csv('/content/gdrive/My Drive/Python/Mtn_proj_model/data/df2_dummies.csv', dtype='str')\n",
        "df.head(1)"
      ],
      "execution_count": 3,
      "outputs": [
        {
          "output_type": "execute_result",
          "data": {
            "text/html": [
              "<div>\n",
              "<style scoped>\n",
              "    .dataframe tbody tr th:only-of-type {\n",
              "        vertical-align: middle;\n",
              "    }\n",
              "\n",
              "    .dataframe tbody tr th {\n",
              "        vertical-align: top;\n",
              "    }\n",
              "\n",
              "    .dataframe thead th {\n",
              "        text-align: right;\n",
              "    }\n",
              "</style>\n",
              "<table border=\"1\" class=\"dataframe\">\n",
              "  <thead>\n",
              "    <tr style=\"text-align: right;\">\n",
              "      <th></th>\n",
              "      <th>id</th>\n",
              "      <th>latitude</th>\n",
              "      <th>location</th>\n",
              "      <th>longitude</th>\n",
              "      <th>name</th>\n",
              "      <th>pitches</th>\n",
              "      <th>rating</th>\n",
              "      <th>starVotes</th>\n",
              "      <th>stars</th>\n",
              "      <th>type</th>\n",
              "      <th>scoreStars</th>\n",
              "      <th>length_ft</th>\n",
              "      <th>FA_data</th>\n",
              "      <th>page_views</th>\n",
              "      <th>views_per_month</th>\n",
              "      <th>desc</th>\n",
              "      <th>locInfo</th>\n",
              "      <th>pro</th>\n",
              "      <th>commentList</th>\n",
              "      <th>apPopularityScore</th>\n",
              "      <th>rating_new</th>\n",
              "      <th>grade</th>\n",
              "      <th>IRCRA_grade</th>\n",
              "      <th>sketch_factor</th>\n",
              "      <th>type_Aid</th>\n",
              "      <th>type_Alpine</th>\n",
              "      <th>type_Boulder</th>\n",
              "      <th>type_Ice</th>\n",
              "      <th>type_Mixed</th>\n",
              "      <th>type_Snow</th>\n",
              "      <th>type_Sport</th>\n",
              "      <th>type_TR</th>\n",
              "      <th>type_Trad</th>\n",
              "    </tr>\n",
              "  </thead>\n",
              "  <tbody>\n",
              "    <tr>\n",
              "      <th>0</th>\n",
              "      <td>105906185</td>\n",
              "      <td>35.8734</td>\n",
              "      <td>['Arkansas', \"Sam's Throne &amp; Surroundings\", \"S...</td>\n",
              "      <td>-93.0472</td>\n",
              "      <td>Arkansas Roofs 101</td>\n",
              "      <td>1.0</td>\n",
              "      <td>5.10a</td>\n",
              "      <td>5.0</td>\n",
              "      <td>3.4</td>\n",
              "      <td>Trad</td>\n",
              "      <td>2.4</td>\n",
              "      <td>50.0</td>\n",
              "      <td>['Jon Von Canon  3/91']</td>\n",
              "      <td>577.0</td>\n",
              "      <td>4.0</td>\n",
              "      <td>Climb the fistcrack 20 feet to the base of the...</td>\n",
              "      <td>At the right end of the Too Big to Finger Wall...</td>\n",
              "      <td>Pro to 3.5 or 4\".  Rap off trees if there aren...</td>\n",
              "      <td>[]</td>\n",
              "      <td>0.34006</td>\n",
              "      <td>['5.10a']</td>\n",
              "      <td>5.10a</td>\n",
              "      <td>10.0</td>\n",
              "      <td>PG</td>\n",
              "      <td>0</td>\n",
              "      <td>0</td>\n",
              "      <td>0</td>\n",
              "      <td>0</td>\n",
              "      <td>0</td>\n",
              "      <td>0</td>\n",
              "      <td>0</td>\n",
              "      <td>0</td>\n",
              "      <td>1</td>\n",
              "    </tr>\n",
              "  </tbody>\n",
              "</table>\n",
              "</div>"
            ],
            "text/plain": [
              "          id latitude  ... type_TR type_Trad\n",
              "0  105906185  35.8734  ...       0         1\n",
              "\n",
              "[1 rows x 33 columns]"
            ]
          },
          "metadata": {
            "tags": []
          },
          "execution_count": 3
        }
      ]
    },
    {
      "cell_type": "markdown",
      "metadata": {
        "id": "czHHNwDXQRGH",
        "colab_type": "text"
      },
      "source": [
        "### Perform additional data cleaning\n"
      ]
    },
    {
      "cell_type": "code",
      "metadata": {
        "id": "2g53rcIE6nKx",
        "colab_type": "code",
        "outputId": "0536dd22-0e45-4ad6-9b0a-c5217bd7937a",
        "colab": {
          "base_uri": "https://localhost:8080/",
          "height": 423
        }
      },
      "source": [
        "import matplotlib.pyplot as plt\n",
        "import seaborn as sns\n",
        "\n",
        "# define function to visualize null values in dataframe\n",
        "\n",
        "def visualize_nulls(dataframe):\n",
        "  # visualize null values in columns\n",
        "  fig, ax = plt.subplots(figsize=(8,5))\n",
        "  sns.heatmap(dataframe.isnull(), cbar=False, ax=ax)\n",
        "\n",
        "  # initialize second x-axis for null value counts\n",
        "  ax2 = ax.twiny()\n",
        "  ax2Ticks = ax.get_xticks()   \n",
        "  ax2.set_xticks(ax2Ticks)\n",
        "  ax2.set_xbound(ax.get_xbound())\n",
        "\n",
        "  # show null value counts\n",
        "  ax2.set_xticklabels(df_numerical.isnull().sum(axis=0))\n",
        "\n",
        "  # format lower axis\n",
        "  ax.set_xticklabels(ax.get_xticklabels(), rotation=30, ha='right')\n",
        "\n",
        "  # set axes labels\n",
        "  ax.set_xlabel('Feature names')\n",
        "  ax2.set_xlabel('Null value counts')\n",
        "  ax.set_ylabel('Row number')\n",
        "\n",
        "  # show plot and print total null values in dataframe\n",
        "  plt.show()\n",
        "  print('Total null values in dataframe: {}'.format(dataframe.isnull().sum().sum()))\n",
        "  \n",
        "# drop non-numerical data columns and store in new dataframe\n",
        "df_numerical = df.drop(['id','latitude','longitude','location','name','rating','type','stars',\n",
        "                        'FA_data','desc','locInfo','pro','commentList','apPopularityScore',\n",
        "                        'rating_new','grade','sketch_factor'], axis=1).astype(float)\n",
        "\n",
        "# show null values in df_numerical\n",
        "visualize_nulls(df_numerical)"
      ],
      "execution_count": 4,
      "outputs": [
        {
          "output_type": "display_data",
          "data": {
            "image/png": "[encoded data removed]",
            "text/plain": [
              "<Figure size 576x360 with 2 Axes>"
            ]
          },
          "metadata": {
            "tags": []
          }
        },
        {
          "output_type": "stream",
          "text": [
            "Total null values in dataframe: 56525\n"
          ],
          "name": "stdout"
        }
      ]
    },
    {
      "cell_type": "markdown",
      "metadata": {
        "id": "B8RyBTb5uyHH",
        "colab_type": "text"
      },
      "source": [
        "#### Fill or drop missing data"
      ]
    },
    {
      "cell_type": "markdown",
      "metadata": {
        "id": "GS-yGdYhsMnT",
        "colab_type": "text"
      },
      "source": [
        "There are quite a few null values in columns 'pitches' and 'length_ft'. Due to the size of the dataframe, sparsely distributed null values in other columns are not visible in the figure. Because 'scoreStars' will be used as the data label, rows missing this value will be dropped."
      ]
    },
    {
      "cell_type": "code",
      "metadata": {
        "id": "ACKF771tAyDk",
        "colab_type": "code",
        "colab": {}
      },
      "source": [
        "# drop rows missing data label\n",
        "df_numerical.dropna(subset=['scoreStars'], inplace=True)"
      ],
      "execution_count": 0,
      "outputs": []
    },
    {
      "cell_type": "markdown",
      "metadata": {
        "id": "v0R99Nu6tR4V",
        "colab_type": "text"
      },
      "source": [
        "Other columns missing data can be filled using mean, median, or mode values. In the case of 'pitches', most routes are one pitch, so that value will be used to fill in missing data."
      ]
    },
    {
      "cell_type": "code",
      "metadata": {
        "id": "6HA_be709B1H",
        "colab_type": "code",
        "outputId": "0ffc50d4-a592-4e82-97e5-dcd8548b5834",
        "colab": {
          "base_uri": "https://localhost:8080/",
          "height": 283
        }
      },
      "source": [
        "# plot histogram for pitch number\n",
        "ax = df_numerical['pitches'].dropna().hist(bins=20, range=[0,10])\n",
        "_ = ax.set_xlabel('Pitches')\n",
        "_ = ax.set_ylabel('Route count')\n",
        "\n",
        "# fill null values with most common entry\n",
        "df_numerical['pitches'].fillna(1, inplace=True)"
      ],
      "execution_count": 6,
      "outputs": [
        {
          "output_type": "display_data",
          "data": {
            "image/png": "[encoded data removed]",
            "text/plain": [
              "<Figure size 432x288 with 1 Axes>"
            ]
          },
          "metadata": {
            "tags": []
          }
        }
      ]
    },
    {
      "cell_type": "code",
      "metadata": {
        "id": "4eG8HzGuHx3T",
        "colab_type": "code",
        "colab": {}
      },
      "source": [
        ""
      ],
      "execution_count": 0,
      "outputs": []
    },
    {
      "cell_type": "markdown",
      "metadata": {
        "id": "2y_xD0IOwMje",
        "colab_type": "text"
      },
      "source": [
        "There are some outliers in route length which are probably incorrect values. For example, the maximum value is 90,000 ft, but the tallest mountain, Mt. Everest, is only 29,000 ft. For now missing values will be filled, and data will be clipped to remove extreme values."
      ]
    },
    {
      "cell_type": "code",
      "metadata": {
        "id": "4PogAFAM-9hA",
        "colab_type": "code",
        "outputId": "c6a628a7-f3c3-4377-faee-41d4c199b2a2",
        "colab": {
          "base_uri": "https://localhost:8080/",
          "height": 34
        }
      },
      "source": [
        "# maximum route length in dataset\n",
        "l_max = df_numerical['length_ft'].max()\n",
        "print(\"The maximum entry for 'length_ft' is {0:.0f} ft.\".format(l_max))"
      ],
      "execution_count": 7,
      "outputs": [
        {
          "output_type": "stream",
          "text": [
            "The maximum entry for 'length_ft' is 90110 ft.\n"
          ],
          "name": "stdout"
        }
      ]
    },
    {
      "cell_type": "code",
      "metadata": {
        "id": "QNfbTO7w_rIK",
        "colab_type": "code",
        "outputId": "c0bbf692-ef70-4760-9ca7-9644ee58995e",
        "colab": {
          "base_uri": "https://localhost:8080/",
          "height": 283
        }
      },
      "source": [
        "# plot histogram for 'length_ft', clipped to most common range of values\n",
        "ax = df_numerical['length_ft'][df_numerical['length_ft'] < 200].dropna().hist(bins=20)\n",
        "_ = ax.set_xlabel('Route length')\n",
        "_ = ax.set_ylabel('Route count')\n",
        "\n",
        "# get median value -- this is the same regardless of whether data is filtered as in the histogram\n",
        "l_median = df_numerical['length_ft'].median()\n",
        "df_numerical['length_ft'].fillna(l_median, inplace=True)"
      ],
      "execution_count": 8,
      "outputs": [
        {
          "output_type": "display_data",
          "data": {
            "image/png": "[encoded data removed]",
            "text/plain": [
              "<Figure size 432x288 with 1 Axes>"
            ]
          },
          "metadata": {
            "tags": []
          }
        }
      ]
    },
    {
      "cell_type": "markdown",
      "metadata": {
        "id": "NYjbxz3LzfpQ",
        "colab_type": "text"
      },
      "source": [
        "Similarly, fill missing values for 'page_views' and 'views_per_month' with median values."
      ]
    },
    {
      "cell_type": "code",
      "metadata": {
        "id": "YAfPmNC9y7BC",
        "colab_type": "code",
        "colab": {}
      },
      "source": [
        "df_numerical['page_views'].fillna(df_numerical['page_views'].median(), inplace=True)\n",
        "df_numerical['views_per_month'].fillna(df_numerical['views_per_month'].median(), inplace=True)"
      ],
      "execution_count": 0,
      "outputs": []
    },
    {
      "cell_type": "markdown",
      "metadata": {
        "id": "cOS-1Nupzt6c",
        "colab_type": "text"
      },
      "source": [
        "Check once more to make sure that all missing values have been accounted for. Looks good now."
      ]
    },
    {
      "cell_type": "code",
      "metadata": {
        "id": "qI8NX9Ljzr9v",
        "colab_type": "code",
        "outputId": "d6b89d27-ce4d-4b17-e4fd-f77ebc15bc06",
        "colab": {
          "base_uri": "https://localhost:8080/",
          "height": 423
        }
      },
      "source": [
        "visualize_nulls(df_numerical)"
      ],
      "execution_count": 10,
      "outputs": [
        {
          "output_type": "display_data",
          "data": {
            "image/png": "[encoded data removed]",
            "text/plain": [
              "<Figure size 576x360 with 2 Axes>"
            ]
          },
          "metadata": {
            "tags": []
          }
        },
        {
          "output_type": "stream",
          "text": [
            "Total null values in dataframe: 0\n"
          ],
          "name": "stdout"
        }
      ]
    },
    {
      "cell_type": "markdown",
      "metadata": {
        "id": "qEGPLEKk0O7t",
        "colab_type": "text"
      },
      "source": [
        "### Create deep learning model using numerical features"
      ]
    },
    {
      "cell_type": "markdown",
      "metadata": {
        "id": "3IenNpTz4tJJ",
        "colab_type": "text"
      },
      "source": [
        "Use 'scoreStars' as labels and drop frame dataframe"
      ]
    },
    {
      "cell_type": "code",
      "metadata": {
        "id": "biIyYZbcCDip",
        "colab_type": "code",
        "colab": {}
      },
      "source": [
        "y = df_numerical['scoreStars'].values\n",
        "df_X = df_numerical.drop(['scoreStars'], axis=1)"
      ],
      "execution_count": 0,
      "outputs": []
    },
    {
      "cell_type": "markdown",
      "metadata": {
        "id": "yjz63xPS4_XN",
        "colab_type": "text"
      },
      "source": [
        "Normalize data columns by min-max scaling and return features as array"
      ]
    },
    {
      "cell_type": "code",
      "metadata": {
        "id": "3ZKlzgw8CQ5I",
        "colab_type": "code",
        "colab": {}
      },
      "source": [
        "# normalize non-dummy columns\n",
        "cols_to_norm = ['pitches','starVotes','length_ft','page_views','views_per_month','IRCRA_grade']\n",
        "df_X[cols_to_norm] = df_X[cols_to_norm].apply(lambda x: (x - x.min()) / (x.max() - x.min()))\n",
        "X = df_X.values"
      ],
      "execution_count": 0,
      "outputs": []
    },
    {
      "cell_type": "markdown",
      "metadata": {
        "id": "4YHXpJW_5T_I",
        "colab_type": "text"
      },
      "source": [
        "Split the data into model training and testing sets"
      ]
    },
    {
      "cell_type": "code",
      "metadata": {
        "id": "1PGxWY92ERHJ",
        "colab_type": "code",
        "colab": {}
      },
      "source": [
        "from sklearn.model_selection import train_test_split\n",
        "\n",
        "xTrain, xTest, yTrain, yTest = train_test_split(X, y, test_size = 0.2, random_state = 42)"
      ],
      "execution_count": 0,
      "outputs": []
    },
    {
      "cell_type": "markdown",
      "metadata": {
        "id": "RTzyJi8RQa6i",
        "colab_type": "text"
      },
      "source": [
        "Build the numeric feature model using Keras API"
      ]
    },
    {
      "cell_type": "code",
      "metadata": {
        "id": "1BHR_QI5hiIS",
        "colab_type": "code",
        "outputId": "d0a929a7-1cd7-4f76-a8d0-ecae5d4d5bc0",
        "colab": {
          "base_uri": "https://localhost:8080/",
          "height": 741
        }
      },
      "source": [
        "from keras import models\n",
        "from keras import layers\n",
        "from keras.callbacks import EarlyStopping\n",
        "from keras.utils import plot_model, vis_utils\n",
        "from IPython.display import SVG\n",
        "\n",
        "# create regression model using keras API\n",
        "inputs = layers.Input(shape=(X.shape[1],))\n",
        "x = layers.Dense(128, kernel_initializer='normal', activation='relu')(inputs)\n",
        "x = layers.Dense(64, activation='relu')(x)\n",
        "x = layers.Dense(16, activation='relu')(x)\n",
        "predictions = layers.Dense(1, activation='linear')(x)\n",
        "\n",
        "# build the above model\n",
        "model = models.Model(inputs=inputs, outputs=predictions)\n",
        "\n",
        "# compile the model\n",
        "model.compile(optimizer='adam',\n",
        "              loss='mse',\n",
        "              metrics=['mae'])\n",
        "\n",
        "# split the training data once more into training and validation data\n",
        "x_partial_train, x_val, y_partial_train, y_val = train_test_split(xTrain, yTrain, test_size = 0.2, random_state = 42)\n",
        "\n",
        "# define an early stopping callback (may not be necessary since training is fast and converges)\n",
        "useEarlyStopping = False\n",
        "if useEarlyStopping:\n",
        "  callbacks = [EarlyStopping(monitor='val_loss', patience=50, min_delta=0.0001)]\n",
        "else:\n",
        "  callbacks=None\n",
        "\n",
        "# visualize model\n",
        "SVG(vis_utils.model_to_dot(model, show_shapes=True, show_layer_names=False).create(prog='dot', format='svg'))"
      ],
      "execution_count": 14,
      "outputs": [
        {
          "output_type": "stream",
          "text": [
            "Using TensorFlow backend.\n",
            "WARNING: Logging before flag parsing goes to stderr.\n",
            "W0613 22:23:44.397907 140161033561984 deprecation_wrapper.py:119] From /usr/local/lib/python3.6/dist-packages/keras/backend/tensorflow_backend.py:74: The name tf.get_default_graph is deprecated. Please use tf.compat.v1.get_default_graph instead.\n",
            "\n",
            "W0613 22:23:44.436688 140161033561984 deprecation_wrapper.py:119] From /usr/local/lib/python3.6/dist-packages/keras/backend/tensorflow_backend.py:517: The name tf.placeholder is deprecated. Please use tf.compat.v1.placeholder instead.\n",
            "\n",
            "W0613 22:23:44.445673 140161033561984 deprecation_wrapper.py:119] From /usr/local/lib/python3.6/dist-packages/keras/backend/tensorflow_backend.py:4115: The name tf.random_normal is deprecated. Please use tf.random.normal instead.\n",
            "\n",
            "W0613 22:23:44.470041 140161033561984 deprecation_wrapper.py:119] From /usr/local/lib/python3.6/dist-packages/keras/backend/tensorflow_backend.py:4138: The name tf.random_uniform is deprecated. Please use tf.random.uniform instead.\n",
            "\n",
            "W0613 22:23:44.514692 140161033561984 deprecation_wrapper.py:119] From /usr/local/lib/python3.6/dist-packages/keras/optimizers.py:790: The name tf.train.Optimizer is deprecated. Please use tf.compat.v1.train.Optimizer instead.\n",
            "\n"
          ],
          "name": "stderr"
        },
        {
          "output_type": "execute_result",
          "data": {
            "text/plain": [
              "<IPython.core.display.SVG object>"
            ],
            "image/svg+xml": "<svg height=\"387pt\" viewBox=\"0.00 0.00 226.00 387.00\" width=\"226pt\" xmlns=\"http://www.w3.org/2000/svg\" xmlns:xlink=\"http://www.w3.org/1999/xlink\">\n<g class=\"graph\" id=\"graph0\" transform=\"scale(1 1) rotate(0) translate(4 383)\">\n<title>G</title>\n<polygon fill=\"#ffffff\" points=\"-4,4 -4,-383 222,-383 222,4 -4,4\" stroke=\"transparent\"/>\n<!-- 140160215445120 -->\n<g class=\"node\" id=\"node1\">\n<title>140160215445120</title>\n<polygon fill=\"none\" points=\"0,-332.5 0,-378.5 218,-378.5 218,-332.5 0,-332.5\" stroke=\"#000000\"/>\n<text fill=\"#000000\" font-family=\"Times,serif\" font-size=\"14.00\" text-anchor=\"middle\" x=\"40\" y=\"-351.8\">InputLayer</text>\n<polyline fill=\"none\" points=\"80,-332.5 80,-378.5 \" stroke=\"#000000\"/>\n<text fill=\"#000000\" font-family=\"Times,serif\" font-size=\"14.00\" text-anchor=\"middle\" x=\"109\" y=\"-363.3\">input:</text>\n<polyline fill=\"none\" points=\"80,-355.5 138,-355.5 \" stroke=\"#000000\"/>\n<text fill=\"#000000\" font-family=\"Times,serif\" font-size=\"14.00\" text-anchor=\"middle\" x=\"109\" y=\"-340.3\">output:</text>\n<polyline fill=\"none\" points=\"138,-332.5 138,-378.5 \" stroke=\"#000000\"/>\n<text fill=\"#000000\" font-family=\"Times,serif\" font-size=\"14.00\" text-anchor=\"middle\" x=\"178\" y=\"-363.3\">(None, 15)</text>\n<polyline fill=\"none\" points=\"138,-355.5 218,-355.5 \" stroke=\"#000000\"/>\n<text fill=\"#000000\" font-family=\"Times,serif\" font-size=\"14.00\" text-anchor=\"middle\" x=\"178\" y=\"-340.3\">(None, 15)</text>\n</g>\n<!-- 140160215445064 -->\n<g class=\"node\" id=\"node2\">\n<title>140160215445064</title>\n<polygon fill=\"none\" points=\"10.5,-249.5 10.5,-295.5 207.5,-295.5 207.5,-249.5 10.5,-249.5\" stroke=\"#000000\"/>\n<text fill=\"#000000\" font-family=\"Times,serif\" font-size=\"14.00\" text-anchor=\"middle\" x=\"36.5\" y=\"-268.8\">Dense</text>\n<polyline fill=\"none\" points=\"62.5,-249.5 62.5,-295.5 \" stroke=\"#000000\"/>\n<text fill=\"#000000\" font-family=\"Times,serif\" font-size=\"14.00\" text-anchor=\"middle\" x=\"91.5\" y=\"-280.3\">input:</text>\n<polyline fill=\"none\" points=\"62.5,-272.5 120.5,-272.5 \" stroke=\"#000000\"/>\n<text fill=\"#000000\" font-family=\"Times,serif\" font-size=\"14.00\" text-anchor=\"middle\" x=\"91.5\" y=\"-257.3\">output:</text>\n<polyline fill=\"none\" points=\"120.5,-249.5 120.5,-295.5 \" stroke=\"#000000\"/>\n<text fill=\"#000000\" font-family=\"Times,serif\" font-size=\"14.00\" text-anchor=\"middle\" x=\"164\" y=\"-280.3\">(None, 15)</text>\n<polyline fill=\"none\" points=\"120.5,-272.5 207.5,-272.5 \" stroke=\"#000000\"/>\n<text fill=\"#000000\" font-family=\"Times,serif\" font-size=\"14.00\" text-anchor=\"middle\" x=\"164\" y=\"-257.3\">(None, 128)</text>\n</g>\n<!-- 140160215445120&#45;&gt;140160215445064 -->\n<g class=\"edge\" id=\"edge1\">\n<title>140160215445120-&gt;140160215445064</title>\n<path d=\"M109,-332.3799C109,-324.1745 109,-314.7679 109,-305.8786\" fill=\"none\" stroke=\"#000000\"/>\n<polygon fill=\"#000000\" points=\"112.5001,-305.784 109,-295.784 105.5001,-305.784 112.5001,-305.784\" stroke=\"#000000\"/>\n</g>\n<!-- 140159892913512 -->\n<g class=\"node\" id=\"node3\">\n<title>140159892913512</title>\n<polygon fill=\"none\" points=\"10.5,-166.5 10.5,-212.5 207.5,-212.5 207.5,-166.5 10.5,-166.5\" stroke=\"#000000\"/>\n<text fill=\"#000000\" font-family=\"Times,serif\" font-size=\"14.00\" text-anchor=\"middle\" x=\"36.5\" y=\"-185.8\">Dense</text>\n<polyline fill=\"none\" points=\"62.5,-166.5 62.5,-212.5 \" stroke=\"#000000\"/>\n<text fill=\"#000000\" font-family=\"Times,serif\" font-size=\"14.00\" text-anchor=\"middle\" x=\"91.5\" y=\"-197.3\">input:</text>\n<polyline fill=\"none\" points=\"62.5,-189.5 120.5,-189.5 \" stroke=\"#000000\"/>\n<text fill=\"#000000\" font-family=\"Times,serif\" font-size=\"14.00\" text-anchor=\"middle\" x=\"91.5\" y=\"-174.3\">output:</text>\n<polyline fill=\"none\" points=\"120.5,-166.5 120.5,-212.5 \" stroke=\"#000000\"/>\n<text fill=\"#000000\" font-family=\"Times,serif\" font-size=\"14.00\" text-anchor=\"middle\" x=\"164\" y=\"-197.3\">(None, 128)</text>\n<polyline fill=\"none\" points=\"120.5,-189.5 207.5,-189.5 \" stroke=\"#000000\"/>\n<text fill=\"#000000\" font-family=\"Times,serif\" font-size=\"14.00\" text-anchor=\"middle\" x=\"164\" y=\"-174.3\">(None, 64)</text>\n</g>\n<!-- 140160215445064&#45;&gt;140159892913512 -->\n<g class=\"edge\" id=\"edge2\">\n<title>140160215445064-&gt;140159892913512</title>\n<path d=\"M109,-249.3799C109,-241.1745 109,-231.7679 109,-222.8786\" fill=\"none\" stroke=\"#000000\"/>\n<polygon fill=\"#000000\" points=\"112.5001,-222.784 109,-212.784 105.5001,-222.784 112.5001,-222.784\" stroke=\"#000000\"/>\n</g>\n<!-- 140159892913568 -->\n<g class=\"node\" id=\"node4\">\n<title>140159892913568</title>\n<polygon fill=\"none\" points=\"14,-83.5 14,-129.5 204,-129.5 204,-83.5 14,-83.5\" stroke=\"#000000\"/>\n<text fill=\"#000000\" font-family=\"Times,serif\" font-size=\"14.00\" text-anchor=\"middle\" x=\"40\" y=\"-102.8\">Dense</text>\n<polyline fill=\"none\" points=\"66,-83.5 66,-129.5 \" stroke=\"#000000\"/>\n<text fill=\"#000000\" font-family=\"Times,serif\" font-size=\"14.00\" text-anchor=\"middle\" x=\"95\" y=\"-114.3\">input:</text>\n<polyline fill=\"none\" points=\"66,-106.5 124,-106.5 \" stroke=\"#000000\"/>\n<text fill=\"#000000\" font-family=\"Times,serif\" font-size=\"14.00\" text-anchor=\"middle\" x=\"95\" y=\"-91.3\">output:</text>\n<polyline fill=\"none\" points=\"124,-83.5 124,-129.5 \" stroke=\"#000000\"/>\n<text fill=\"#000000\" font-family=\"Times,serif\" font-size=\"14.00\" text-anchor=\"middle\" x=\"164\" y=\"-114.3\">(None, 64)</text>\n<polyline fill=\"none\" points=\"124,-106.5 204,-106.5 \" stroke=\"#000000\"/>\n<text fill=\"#000000\" font-family=\"Times,serif\" font-size=\"14.00\" text-anchor=\"middle\" x=\"164\" y=\"-91.3\">(None, 16)</text>\n</g>\n<!-- 140159892913512&#45;&gt;140159892913568 -->\n<g class=\"edge\" id=\"edge3\">\n<title>140159892913512-&gt;140159892913568</title>\n<path d=\"M109,-166.3799C109,-158.1745 109,-148.7679 109,-139.8786\" fill=\"none\" stroke=\"#000000\"/>\n<polygon fill=\"#000000\" points=\"112.5001,-139.784 109,-129.784 105.5001,-139.784 112.5001,-139.784\" stroke=\"#000000\"/>\n</g>\n<!-- 140159893031792 -->\n<g class=\"node\" id=\"node5\">\n<title>140159893031792</title>\n<polygon fill=\"none\" points=\"14,-.5 14,-46.5 204,-46.5 204,-.5 14,-.5\" stroke=\"#000000\"/>\n<text fill=\"#000000\" font-family=\"Times,serif\" font-size=\"14.00\" text-anchor=\"middle\" x=\"40\" y=\"-19.8\">Dense</text>\n<polyline fill=\"none\" points=\"66,-.5 66,-46.5 \" stroke=\"#000000\"/>\n<text fill=\"#000000\" font-family=\"Times,serif\" font-size=\"14.00\" text-anchor=\"middle\" x=\"95\" y=\"-31.3\">input:</text>\n<polyline fill=\"none\" points=\"66,-23.5 124,-23.5 \" stroke=\"#000000\"/>\n<text fill=\"#000000\" font-family=\"Times,serif\" font-size=\"14.00\" text-anchor=\"middle\" x=\"95\" y=\"-8.3\">output:</text>\n<polyline fill=\"none\" points=\"124,-.5 124,-46.5 \" stroke=\"#000000\"/>\n<text fill=\"#000000\" font-family=\"Times,serif\" font-size=\"14.00\" text-anchor=\"middle\" x=\"164\" y=\"-31.3\">(None, 16)</text>\n<polyline fill=\"none\" points=\"124,-23.5 204,-23.5 \" stroke=\"#000000\"/>\n<text fill=\"#000000\" font-family=\"Times,serif\" font-size=\"14.00\" text-anchor=\"middle\" x=\"164\" y=\"-8.3\">(None, 1)</text>\n</g>\n<!-- 140159892913568&#45;&gt;140159893031792 -->\n<g class=\"edge\" id=\"edge4\">\n<title>140159892913568-&gt;140159893031792</title>\n<path d=\"M109,-83.3799C109,-75.1745 109,-65.7679 109,-56.8786\" fill=\"none\" stroke=\"#000000\"/>\n<polygon fill=\"#000000\" points=\"112.5001,-56.784 109,-46.784 105.5001,-56.784 112.5001,-56.784\" stroke=\"#000000\"/>\n</g>\n</g>\n</svg>"
          },
          "metadata": {
            "tags": []
          },
          "execution_count": 14
        }
      ]
    },
    {
      "cell_type": "markdown",
      "metadata": {
        "id": "sgmKl-mt_rSw",
        "colab_type": "text"
      },
      "source": [
        "Fit the model"
      ]
    },
    {
      "cell_type": "code",
      "metadata": {
        "id": "0kAcu-fl7obn",
        "colab_type": "code",
        "outputId": "be89fc6f-a86b-4044-c7b7-b6c0634fff41",
        "colab": {
          "base_uri": "https://localhost:8080/",
          "height": 1768
        }
      },
      "source": [
        "# fit the model\n",
        "history = model.fit(x_partial_train,\n",
        "                    y_partial_train,\n",
        "                    epochs=50,\n",
        "                    verbose=1,\n",
        "                    batch_size=128,\n",
        "                    validation_data=(x_val, y_val),\n",
        "                    callbacks=callbacks)"
      ],
      "execution_count": 15,
      "outputs": [
        {
          "output_type": "stream",
          "text": [
            "W0613 22:23:45.060789 140161033561984 deprecation_wrapper.py:119] From /usr/local/lib/python3.6/dist-packages/keras/backend/tensorflow_backend.py:986: The name tf.assign_add is deprecated. Please use tf.compat.v1.assign_add instead.\n",
            "\n"
          ],
          "name": "stderr"
        },
        {
          "output_type": "stream",
          "text": [
            "Train on 53711 samples, validate on 13428 samples\n",
            "Epoch 1/50\n",
            "53711/53711 [==============================] - 1s 27us/step - loss: 0.8092 - mean_absolute_error: 0.6536 - val_loss: 0.3931 - val_mean_absolute_error: 0.4931\n",
            "Epoch 2/50\n",
            "53711/53711 [==============================] - 1s 14us/step - loss: 0.3930 - mean_absolute_error: 0.4891 - val_loss: 0.3832 - val_mean_absolute_error: 0.4864\n",
            "Epoch 3/50\n",
            "53711/53711 [==============================] - 1s 14us/step - loss: 0.3775 - mean_absolute_error: 0.4788 - val_loss: 0.3645 - val_mean_absolute_error: 0.4717\n",
            "Epoch 4/50\n",
            "53711/53711 [==============================] - 1s 15us/step - loss: 0.3654 - mean_absolute_error: 0.4703 - val_loss: 0.3586 - val_mean_absolute_error: 0.4678\n",
            "Epoch 5/50\n",
            "53711/53711 [==============================] - 1s 15us/step - loss: 0.3581 - mean_absolute_error: 0.4649 - val_loss: 0.3543 - val_mean_absolute_error: 0.4628\n",
            "Epoch 6/50\n",
            "53711/53711 [==============================] - 1s 15us/step - loss: 0.3510 - mean_absolute_error: 0.4593 - val_loss: 0.3455 - val_mean_absolute_error: 0.4575\n",
            "Epoch 7/50\n",
            "53711/53711 [==============================] - 1s 16us/step - loss: 0.3467 - mean_absolute_error: 0.4562 - val_loss: 0.3551 - val_mean_absolute_error: 0.4653\n",
            "Epoch 8/50\n",
            "53711/53711 [==============================] - 1s 15us/step - loss: 0.3438 - mean_absolute_error: 0.4538 - val_loss: 0.3382 - val_mean_absolute_error: 0.4506\n",
            "Epoch 9/50\n",
            "53711/53711 [==============================] - 1s 16us/step - loss: 0.3414 - mean_absolute_error: 0.4519 - val_loss: 0.3356 - val_mean_absolute_error: 0.4503\n",
            "Epoch 10/50\n",
            "53711/53711 [==============================] - 1s 16us/step - loss: 0.3417 - mean_absolute_error: 0.4521 - val_loss: 0.3411 - val_mean_absolute_error: 0.4528\n",
            "Epoch 11/50\n",
            "53711/53711 [==============================] - 1s 15us/step - loss: 0.3412 - mean_absolute_error: 0.4515 - val_loss: 0.3312 - val_mean_absolute_error: 0.4450\n",
            "Epoch 12/50\n",
            "53711/53711 [==============================] - 1s 16us/step - loss: 0.3383 - mean_absolute_error: 0.4497 - val_loss: 0.3344 - val_mean_absolute_error: 0.4478\n",
            "Epoch 13/50\n",
            "53711/53711 [==============================] - 1s 14us/step - loss: 0.3372 - mean_absolute_error: 0.4488 - val_loss: 0.3336 - val_mean_absolute_error: 0.4484\n",
            "Epoch 14/50\n",
            "53711/53711 [==============================] - 1s 14us/step - loss: 0.3370 - mean_absolute_error: 0.4486 - val_loss: 0.3301 - val_mean_absolute_error: 0.4441\n",
            "Epoch 15/50\n",
            "53711/53711 [==============================] - 1s 14us/step - loss: 0.3365 - mean_absolute_error: 0.4481 - val_loss: 0.3329 - val_mean_absolute_error: 0.4471\n",
            "Epoch 16/50\n",
            "53711/53711 [==============================] - 1s 15us/step - loss: 0.3360 - mean_absolute_error: 0.4480 - val_loss: 0.3325 - val_mean_absolute_error: 0.4469\n",
            "Epoch 17/50\n",
            "53711/53711 [==============================] - 1s 15us/step - loss: 0.3348 - mean_absolute_error: 0.4470 - val_loss: 0.3312 - val_mean_absolute_error: 0.4459\n",
            "Epoch 18/50\n",
            "53711/53711 [==============================] - 1s 14us/step - loss: 0.3358 - mean_absolute_error: 0.4478 - val_loss: 0.3301 - val_mean_absolute_error: 0.4455\n",
            "Epoch 19/50\n",
            "53711/53711 [==============================] - 1s 14us/step - loss: 0.3339 - mean_absolute_error: 0.4463 - val_loss: 0.3309 - val_mean_absolute_error: 0.4450\n",
            "Epoch 20/50\n",
            "53711/53711 [==============================] - 1s 15us/step - loss: 0.3346 - mean_absolute_error: 0.4470 - val_loss: 0.3308 - val_mean_absolute_error: 0.4449\n",
            "Epoch 21/50\n",
            "53711/53711 [==============================] - 1s 14us/step - loss: 0.3321 - mean_absolute_error: 0.4446 - val_loss: 0.3273 - val_mean_absolute_error: 0.4419\n",
            "Epoch 22/50\n",
            "53711/53711 [==============================] - 1s 14us/step - loss: 0.3331 - mean_absolute_error: 0.4455 - val_loss: 0.3275 - val_mean_absolute_error: 0.4428\n",
            "Epoch 23/50\n",
            "53711/53711 [==============================] - 1s 14us/step - loss: 0.3325 - mean_absolute_error: 0.4451 - val_loss: 0.3269 - val_mean_absolute_error: 0.4412\n",
            "Epoch 24/50\n",
            "53711/53711 [==============================] - 1s 14us/step - loss: 0.3324 - mean_absolute_error: 0.4449 - val_loss: 0.3291 - val_mean_absolute_error: 0.4432\n",
            "Epoch 25/50\n",
            "53711/53711 [==============================] - 1s 15us/step - loss: 0.3326 - mean_absolute_error: 0.4449 - val_loss: 0.3270 - val_mean_absolute_error: 0.4404\n",
            "Epoch 26/50\n",
            "53711/53711 [==============================] - 1s 14us/step - loss: 0.3317 - mean_absolute_error: 0.4446 - val_loss: 0.3269 - val_mean_absolute_error: 0.4415\n",
            "Epoch 27/50\n",
            "53711/53711 [==============================] - 1s 14us/step - loss: 0.3322 - mean_absolute_error: 0.4448 - val_loss: 0.3257 - val_mean_absolute_error: 0.4409\n",
            "Epoch 28/50\n",
            "53711/53711 [==============================] - 1s 14us/step - loss: 0.3306 - mean_absolute_error: 0.4435 - val_loss: 0.3299 - val_mean_absolute_error: 0.4442\n",
            "Epoch 29/50\n",
            "53711/53711 [==============================] - 1s 14us/step - loss: 0.3310 - mean_absolute_error: 0.4443 - val_loss: 0.3252 - val_mean_absolute_error: 0.4402\n",
            "Epoch 30/50\n",
            "53711/53711 [==============================] - 1s 14us/step - loss: 0.3300 - mean_absolute_error: 0.4430 - val_loss: 0.3338 - val_mean_absolute_error: 0.4474\n",
            "Epoch 31/50\n",
            "53711/53711 [==============================] - 1s 14us/step - loss: 0.3304 - mean_absolute_error: 0.4436 - val_loss: 0.3276 - val_mean_absolute_error: 0.4413\n",
            "Epoch 32/50\n",
            "53711/53711 [==============================] - 1s 15us/step - loss: 0.3311 - mean_absolute_error: 0.4440 - val_loss: 0.3316 - val_mean_absolute_error: 0.4443\n",
            "Epoch 33/50\n",
            "53711/53711 [==============================] - 1s 15us/step - loss: 0.3308 - mean_absolute_error: 0.4438 - val_loss: 0.3244 - val_mean_absolute_error: 0.4386\n",
            "Epoch 34/50\n",
            "53711/53711 [==============================] - 1s 15us/step - loss: 0.3297 - mean_absolute_error: 0.4431 - val_loss: 0.3304 - val_mean_absolute_error: 0.4443\n",
            "Epoch 35/50\n",
            "53711/53711 [==============================] - 1s 16us/step - loss: 0.3299 - mean_absolute_error: 0.4430 - val_loss: 0.3246 - val_mean_absolute_error: 0.4387\n",
            "Epoch 36/50\n",
            "53711/53711 [==============================] - 1s 14us/step - loss: 0.3306 - mean_absolute_error: 0.4438 - val_loss: 0.3301 - val_mean_absolute_error: 0.4421\n",
            "Epoch 37/50\n",
            "53711/53711 [==============================] - 1s 15us/step - loss: 0.3297 - mean_absolute_error: 0.4431 - val_loss: 0.3239 - val_mean_absolute_error: 0.4386\n",
            "Epoch 38/50\n",
            "53711/53711 [==============================] - 1s 15us/step - loss: 0.3290 - mean_absolute_error: 0.4427 - val_loss: 0.3259 - val_mean_absolute_error: 0.4402\n",
            "Epoch 39/50\n",
            "53711/53711 [==============================] - 1s 15us/step - loss: 0.3284 - mean_absolute_error: 0.4418 - val_loss: 0.3240 - val_mean_absolute_error: 0.4394\n",
            "Epoch 40/50\n",
            "53711/53711 [==============================] - 1s 16us/step - loss: 0.3285 - mean_absolute_error: 0.4418 - val_loss: 0.3227 - val_mean_absolute_error: 0.4389\n",
            "Epoch 41/50\n",
            "53711/53711 [==============================] - 1s 16us/step - loss: 0.3283 - mean_absolute_error: 0.4419 - val_loss: 0.3254 - val_mean_absolute_error: 0.4388\n",
            "Epoch 42/50\n",
            "53711/53711 [==============================] - 1s 15us/step - loss: 0.3277 - mean_absolute_error: 0.4413 - val_loss: 0.3351 - val_mean_absolute_error: 0.4493\n",
            "Epoch 43/50\n",
            "53711/53711 [==============================] - 1s 15us/step - loss: 0.3289 - mean_absolute_error: 0.4420 - val_loss: 0.3222 - val_mean_absolute_error: 0.4380\n",
            "Epoch 44/50\n",
            "53711/53711 [==============================] - 1s 15us/step - loss: 0.3279 - mean_absolute_error: 0.4418 - val_loss: 0.3241 - val_mean_absolute_error: 0.4386\n",
            "Epoch 45/50\n",
            "53711/53711 [==============================] - 1s 15us/step - loss: 0.3265 - mean_absolute_error: 0.4403 - val_loss: 0.3221 - val_mean_absolute_error: 0.4367\n",
            "Epoch 46/50\n",
            "53711/53711 [==============================] - 1s 15us/step - loss: 0.3270 - mean_absolute_error: 0.4408 - val_loss: 0.3258 - val_mean_absolute_error: 0.4411\n",
            "Epoch 47/50\n",
            "53711/53711 [==============================] - 1s 15us/step - loss: 0.3274 - mean_absolute_error: 0.4413 - val_loss: 0.3227 - val_mean_absolute_error: 0.4378\n",
            "Epoch 48/50\n",
            "53711/53711 [==============================] - 1s 16us/step - loss: 0.3263 - mean_absolute_error: 0.4400 - val_loss: 0.3251 - val_mean_absolute_error: 0.4395\n",
            "Epoch 49/50\n",
            "53711/53711 [==============================] - 1s 15us/step - loss: 0.3265 - mean_absolute_error: 0.4405 - val_loss: 0.3220 - val_mean_absolute_error: 0.4372\n",
            "Epoch 50/50\n",
            "53711/53711 [==============================] - 1s 16us/step - loss: 0.3262 - mean_absolute_error: 0.4402 - val_loss: 0.3226 - val_mean_absolute_error: 0.4382\n"
          ],
          "name": "stdout"
        }
      ]
    },
    {
      "cell_type": "markdown",
      "metadata": {
        "id": "Ec7xn2gb_vf5",
        "colab_type": "text"
      },
      "source": [
        "Visualize the training history."
      ]
    },
    {
      "cell_type": "code",
      "metadata": {
        "id": "-twlnkbbMHsn",
        "colab_type": "code",
        "outputId": "8f1bc750-f0d2-43ea-f9c3-b59c2607420c",
        "colab": {
          "base_uri": "https://localhost:8080/",
          "height": 441
        }
      },
      "source": [
        "# plotting functions modified from github.com/whyboris and 'Deep Learning with Python' by François Chollet\n",
        "\n",
        "def smooth_curve(points, factor=0.75):\n",
        "    smoothed_points = []\n",
        "    for point in points:\n",
        "        if smoothed_points:\n",
        "            previous = smoothed_points[-1]\n",
        "            smoothed_points.append(previous * factor + point * (1 - factor))\n",
        "        else:\n",
        "            smoothed_points.append(point)\n",
        "    return smoothed_points\n",
        "\n",
        "def set_plot_history_data(ax, history, which_graph):\n",
        "\n",
        "    if which_graph == 'mae':\n",
        "        train = smooth_curve(history.history['mean_absolute_error'])\n",
        "        valid = smooth_curve(history.history['val_mean_absolute_error'])\n",
        "\n",
        "    if which_graph == 'loss':\n",
        "        train = smooth_curve(history.history['loss'])\n",
        "        valid = smooth_curve(history.history['val_loss'])\n",
        "\n",
        "    epochs = range(1, len(train) + 1)\n",
        "\n",
        "    # when graphing loss the first few epochs may skew the (loss) graph\n",
        "    trim = 5 # remove first 5 epochs\n",
        "    \n",
        "\n",
        "    ax.plot(epochs[trim:], train[trim:], 'dodgerblue', label=('Training'))\n",
        "    ax.plot(epochs[trim:], valid[trim:], 'g', label=('Validation'))\n",
        "\n",
        "def get_max_validation_accuracy(history):\n",
        "    validation = smooth_curve(history.history['val_mean_absolute_error'])\n",
        "    ymax = max(validation)\n",
        "    return 'Max validation accuracy ≈ ' + str(round(ymax, 3)*100) + '%'\n",
        "\n",
        "def plot_history(history):    \n",
        "\n",
        "    fig, (ax1, ax2) = plt.subplots(nrows=2,\n",
        "                                   ncols=1,\n",
        "                                   figsize=(10, 6),\n",
        "                                   sharex=True)\n",
        "\n",
        "    set_plot_history_data(ax1, history, 'mae')\n",
        "    set_plot_history_data(ax2, history, 'loss')\n",
        "\n",
        "    # mae graph\n",
        "    ax1.set_ylabel('Mean Absolute Error')\n",
        "    ax1.set_ylim(bottom=0.425, top=0.55)\n",
        "    ax1.spines['top'].set_visible(False)\n",
        "    ax1.spines['right'].set_visible(False)\n",
        "    ax1.xaxis.set_ticks_position('none')\n",
        "    ax1.spines['bottom'].set_visible(False)\n",
        "\n",
        "\n",
        "    # Loss graph\n",
        "    ax2.set_ylabel('Loss')\n",
        "    ax2.plot(legend=False)\n",
        "    ax2.set_xlabel('Epochs')\n",
        "    ax2.spines['top'].set_visible(False)\n",
        "    ax2.spines['right'].set_visible(False)\n",
        "    ax1.legend(loc=\"upper right\")\n",
        "    ax1.set_title('Training history')\n",
        "\n",
        "    plt.tight_layout()\n",
        "\n",
        "# show training history using above functions\n",
        "plot_history(history)"
      ],
      "execution_count": 16,
      "outputs": [
        {
          "output_type": "display_data",
          "data": {
            "image/png": "[encoded data removed]",
            "text/plain": [
              "<Figure size 720x432 with 2 Axes>"
            ]
          },
          "metadata": {
            "tags": []
          }
        }
      ]
    },
    {
      "cell_type": "markdown",
      "metadata": {
        "id": "SxEv1muSBQuQ",
        "colab_type": "text"
      },
      "source": [
        "Evaluate model and show the results. This model predicts the test data scores with an error of 0.44 stars."
      ]
    },
    {
      "cell_type": "code",
      "metadata": {
        "id": "RA3RpvoWH9sx",
        "colab_type": "code",
        "outputId": "8bb8ff8b-4910-4a55-e0f3-051ac4f92076",
        "colab": {
          "base_uri": "https://localhost:8080/",
          "height": 119
        }
      },
      "source": [
        "results = model.evaluate(xTest, yTest)\n",
        "print('')\n",
        "print('Model evaluation using test data')\n",
        "print('')\n",
        "print('Loss: {0:.4f}'.format(results[0]))\n",
        "print(' MAE: {0:.4f}'.format(results[1]))"
      ],
      "execution_count": 17,
      "outputs": [
        {
          "output_type": "stream",
          "text": [
            "16785/16785 [==============================] - 0s 17us/step\n",
            "\n",
            "Model evaluation using test data\n",
            "\n",
            "Loss: 0.3238\n",
            " MAE: 0.4386\n"
          ],
          "name": "stdout"
        }
      ]
    },
    {
      "cell_type": "markdown",
      "metadata": {
        "id": "1DhU5spLQgGK",
        "colab_type": "text"
      },
      "source": [
        "### Create deep learning model using route comments"
      ]
    },
    {
      "cell_type": "markdown",
      "metadata": {
        "id": "fDTNPESe-XF2",
        "colab_type": "text"
      },
      "source": [
        "Create a new dataframe containing route comments and scores, and drop rows with comment string length shorter than *min_chars* ."
      ]
    },
    {
      "cell_type": "code",
      "metadata": {
        "id": "N2URoi68QMU5",
        "colab_type": "code",
        "colab": {}
      },
      "source": [
        "df_text = df[['commentList','scoreStars']].copy().astype(str)\n",
        "\n",
        "# drop rows with comments shorter than min_chars characters\n",
        "min_chars = 500\n",
        "mask = df_text['commentList'].str.len() >= min_chars\n",
        "df_text = df_text.loc[mask]"
      ],
      "execution_count": 0,
      "outputs": []
    },
    {
      "cell_type": "markdown",
      "metadata": {
        "id": "zUwMGZ4TCvbA",
        "colab_type": "text"
      },
      "source": [
        "Perform text preprocessing."
      ]
    },
    {
      "cell_type": "code",
      "metadata": {
        "id": "B7a22WZISTjh",
        "colab_type": "code",
        "outputId": "ad2b25e1-1a61-485b-cc2f-6d2e9127e1a8",
        "colab": {
          "base_uri": "https://localhost:8080/",
          "height": 68
        }
      },
      "source": [
        "import re\n",
        "import nltk\n",
        "from nltk.corpus import stopwords\n",
        "from keras.preprocessing.sequence import pad_sequences\n",
        "from sklearn.preprocessing import LabelBinarizer\n",
        "\n",
        "# download nltk stopwords\n",
        "nltk.download('stopwords')\n",
        "\n",
        "# create regex strings to remove characters, symbols, and stopwords\n",
        "REPLACE_BY_SPACE_RE = re.compile('[/(){}\\[\\]\\|@,;]')\n",
        "BAD_SYMBOLS_RE = re.compile('[^0-9a-z #+_]')\n",
        "STOPWORDS = set(stopwords.words('english'))\n",
        "\n",
        "# define \n",
        "def clean_text(text):\n",
        "    \"\"\"\n",
        "        text: a string\n",
        "        return: modified initial string\n",
        "    \"\"\"\n",
        "    text = text.lower() # lowercase text\n",
        "    text = REPLACE_BY_SPACE_RE.sub(' ', text) # replace REPLACE_BY_SPACE_RE symbols by space in text. substitute the matched string in REPLACE_BY_SPACE_RE with space.\n",
        "    text = BAD_SYMBOLS_RE.sub('', text) # remove symbols which are in BAD_SYMBOLS_RE from text. substitute the matched string in BAD_SYMBOLS_RE with nothing. \n",
        "    text = text.replace('x', '')\n",
        "#    text = re.sub(r'\\W+', '', text)\n",
        "    text = ' '.join(word for word in text.split() if word not in STOPWORDS) # remove stopwords from text\n",
        "    return text\n",
        "  \n",
        "df_text['commentList'] = df_text['commentList'].apply(clean_text)\n",
        "df_text['commentList'] = df_text['commentList'].str.replace('\\d+', '')\n",
        "\n",
        "# tokenize words\n",
        "from keras.preprocessing.text import Tokenizer\n",
        "\n",
        "# The maximum number of words to be used. (most frequent)\n",
        "MAX_NB_WORDS = 10000\n",
        "# Max number of words in each complaint.\n",
        "MAX_SEQUENCE_LENGTH = 500\n",
        "# This is fixed.\n",
        "EMBEDDING_DIM = 100\n",
        "tokenizer = Tokenizer(num_words=MAX_NB_WORDS, filters='!\"#$%&()*+,-./:;<=>?@[\\]^_`{|}~', lower=True)\n",
        "tokenizer.fit_on_texts(df_text['commentList'].values)\n",
        "word_index = tokenizer.word_index\n",
        "print('Found %s unique tokens.' % len(word_index))\n",
        "\n",
        "# truncate and pad input sequences so they are all same length\n",
        "X = tokenizer.texts_to_sequences(df_text['commentList'].values)\n",
        "X_text = pad_sequences(X, maxlen=MAX_SEQUENCE_LENGTH)\n",
        "\n",
        "# do not preprocess ratings since model will use regression for continuous values\n",
        "y = df_text['scoreStars']"
      ],
      "execution_count": 19,
      "outputs": [
        {
          "output_type": "stream",
          "text": [
            "[nltk_data] Downloading package stopwords to /root/nltk_data...\n",
            "[nltk_data]   Unzipping corpora/stopwords.zip.\n",
            "Found 61462 unique tokens.\n"
          ],
          "name": "stdout"
        }
      ]
    },
    {
      "cell_type": "markdown",
      "metadata": {
        "id": "r_OKhBOL7F_H",
        "colab_type": "text"
      },
      "source": [
        "Split the data into training, validation, and testing sets."
      ]
    },
    {
      "cell_type": "code",
      "metadata": {
        "id": "wshKhukTAMHx",
        "colab_type": "code",
        "colab": {}
      },
      "source": [
        "# split training data into train_partial and validation sets\n",
        "from sklearn.model_selection import train_test_split\n",
        "from sklearn.preprocessing import MinMaxScaler, LabelBinarizer\n",
        "\n",
        "# train test split feat, text, and label arrays\n",
        "X_text_train, X_text_test, y_train, y_test = train_test_split(X_text, y, test_size=0.2, random_state=42)\n",
        "\n",
        "# validation splits\n",
        "X_text_train_partial, X_text_val, y_train_partial, y_val = train_test_split(X_text, y, test_size=0.2, random_state=42)"
      ],
      "execution_count": 0,
      "outputs": []
    },
    {
      "cell_type": "markdown",
      "metadata": {
        "id": "XxNI6X9z7Wtq",
        "colab_type": "text"
      },
      "source": [
        "### Train the deep learning model"
      ]
    },
    {
      "cell_type": "code",
      "metadata": {
        "id": "dmEAlc9rnjVq",
        "colab_type": "code",
        "outputId": "ae77519f-75ce-417b-f166-47b81a1d2b77",
        "colab": {
          "base_uri": "https://localhost:8080/",
          "height": 442
        }
      },
      "source": [
        "import numpy as np\n",
        "import tensorflow as tf\n",
        "import tensorflow.keras as keras\n",
        "import math\n",
        "import os\n",
        "import pprint\n",
        "import matplotlib.pyplot as plt\n",
        "\n",
        "from sklearn import metrics\n",
        "\n",
        "def get_model():\n",
        "  return keras.Sequential([\n",
        "      keras.layers.Embedding(MAX_NB_WORDS, EMBEDDING_DIM, input_length=X_text_train.shape[1]),\n",
        "      keras.layers.GRU(100, dropout=0.3, recurrent_dropout=0.3),\n",
        "      keras.layers.Dense(10, activation='relu'),\n",
        "      keras.layers.Dropout(0.3),\n",
        "      keras.layers.Dense(1)\n",
        "  ])\n",
        "\n",
        "model = get_model()\n",
        "model.compile(optimizer=tf.train.AdamOptimizer(.001),\n",
        "             loss='mean_squared_error',\n",
        "             metrics=['mean_absolute_error'])\n",
        "\n",
        "# define an early stopping callback (may not be necessary since training is fast and converges)\n",
        "useEarlyStopping = True\n",
        "if useEarlyStopping:\n",
        "  callbacks = [keras.callbacks.EarlyStopping(monitor='val_loss', patience=5, min_delta=0.0001)]\n",
        "else:\n",
        "  callbacks=None\n",
        "\n",
        "# train the model\n",
        "history = model.fit(X_text_train_partial, \n",
        "                    y_train_partial, \n",
        "                    validation_data=(X_text_val, y_val), \n",
        "                    batch_size=128, \n",
        "                    epochs=100, \n",
        "                    verbose=1,\n",
        "                    callbacks=callbacks)"
      ],
      "execution_count": 24,
      "outputs": [
        {
          "output_type": "stream",
          "text": [
            "Train on 16250 samples, validate on 4063 samples\n",
            "Epoch 1/100\n",
            "16250/16250 [==============================] - 251s 15ms/sample - loss: 2.2731 - mean_absolute_error: 1.2067 - val_loss: 0.5943 - val_mean_absolute_error: 0.6303\n",
            "Epoch 2/100\n",
            "16250/16250 [==============================] - 254s 16ms/sample - loss: 1.1101 - mean_absolute_error: 0.8405 - val_loss: 0.5054 - val_mean_absolute_error: 0.5823\n",
            "Epoch 3/100\n",
            "16250/16250 [==============================] - 238s 15ms/sample - loss: 1.0148 - mean_absolute_error: 0.7974 - val_loss: 0.3566 - val_mean_absolute_error: 0.4821\n",
            "Epoch 4/100\n",
            "16250/16250 [==============================] - 240s 15ms/sample - loss: 0.9416 - mean_absolute_error: 0.7708 - val_loss: 0.4114 - val_mean_absolute_error: 0.5197\n",
            "Epoch 5/100\n",
            "16250/16250 [==============================] - 234s 14ms/sample - loss: 0.8692 - mean_absolute_error: 0.7361 - val_loss: 0.3635 - val_mean_absolute_error: 0.4833\n",
            "Epoch 6/100\n",
            "16250/16250 [==============================] - 234s 14ms/sample - loss: 0.8193 - mean_absolute_error: 0.7157 - val_loss: 0.3358 - val_mean_absolute_error: 0.4634\n",
            "Epoch 7/100\n",
            "16250/16250 [==============================] - 235s 14ms/sample - loss: 0.7735 - mean_absolute_error: 0.6931 - val_loss: 0.3304 - val_mean_absolute_error: 0.4582\n",
            "Epoch 8/100\n",
            "16250/16250 [==============================] - 231s 14ms/sample - loss: 0.7283 - mean_absolute_error: 0.6708 - val_loss: 0.3696 - val_mean_absolute_error: 0.4889\n",
            "Epoch 9/100\n",
            "16250/16250 [==============================] - 231s 14ms/sample - loss: 0.6841 - mean_absolute_error: 0.6493 - val_loss: 0.3461 - val_mean_absolute_error: 0.4733\n",
            "Epoch 10/100\n",
            "16250/16250 [==============================] - 225s 14ms/sample - loss: 0.6621 - mean_absolute_error: 0.6357 - val_loss: 0.3618 - val_mean_absolute_error: 0.4835\n",
            "Epoch 11/100\n",
            "16250/16250 [==============================] - 224s 14ms/sample - loss: 0.5940 - mean_absolute_error: 0.6016 - val_loss: 0.3830 - val_mean_absolute_error: 0.4987\n",
            "Epoch 12/100\n",
            "16250/16250 [==============================] - 230s 14ms/sample - loss: 0.5550 - mean_absolute_error: 0.5825 - val_loss: 0.3563 - val_mean_absolute_error: 0.4795\n"
          ],
          "name": "stdout"
        }
      ]
    },
    {
      "cell_type": "markdown",
      "metadata": {
        "id": "yctSl4PS7ofY",
        "colab_type": "text"
      },
      "source": [
        "### Plot the learning"
      ]
    },
    {
      "cell_type": "code",
      "metadata": {
        "id": "Be7L812Gnjam",
        "colab_type": "code",
        "colab": {
          "base_uri": "https://localhost:8080/",
          "height": 367
        },
        "outputId": "b3aa35ac-15c5-49d2-ee87-09b1e2aa40f7"
      },
      "source": [
        "# plot training and validation loss and mae vs. epochs\n",
        "\n",
        "# get training history as dictionary\n",
        "history_dict = history.history\n",
        "\n",
        "# set up values\n",
        "train_loss = history_dict['loss']\n",
        "val_loss = history_dict['val_loss']\n",
        "train_mae = history_dict['mean_absolute_error']\n",
        "val_mae = history_dict['val_mean_absolute_error']\n",
        "\n",
        "# set up figure\n",
        "f, (ax1, ax2) = plt.subplots(1, 2, sharey=False, figsize=(15,5))\n",
        "\n",
        "# loss plot\n",
        "ax1.plot(train_loss, label='training loss')\n",
        "ax1.plot(val_loss, label='val loss')\n",
        "ax1.set_title('Model loss')\n",
        "ax1.set(xlabel='epochs', ylabel='loss')\n",
        "ax1.legend()\n",
        "\n",
        "# accuracy plot\n",
        "ax2.plot(train_mae, label='training mae')\n",
        "ax2.plot(val_mae, label='val mae')\n",
        "ax2.set_title('Model mae')\n",
        "ax2.set(xlabel='epochs', ylabel='mae')\n",
        "ax2.legend()"
      ],
      "execution_count": 25,
      "outputs": [
        {
          "output_type": "execute_result",
          "data": {
            "text/plain": [
              "<matplotlib.legend.Legend at 0x7f79749f8358>"
            ]
          },
          "metadata": {
            "tags": []
          },
          "execution_count": 25
        },
        {
          "output_type": "display_data",
          "data": {
            "image/png": "[encoded data removed]",
            "text/plain": [
              "<Figure size 1080x360 with 2 Axes>"
            ]
          },
          "metadata": {
            "tags": []
          }
        }
      ]
    },
    {
      "cell_type": "markdown",
      "metadata": {
        "id": "xM6ODDG57wrj",
        "colab_type": "text"
      },
      "source": [
        "### Evaluate the model on test data"
      ]
    },
    {
      "cell_type": "code",
      "metadata": {
        "id": "DCRf01iZ7uIi",
        "colab_type": "code",
        "colab": {
          "base_uri": "https://localhost:8080/",
          "height": 119
        },
        "outputId": "ea0648dd-83d3-45bc-d744-c6e0de4c18f6"
      },
      "source": [
        "results = model.evaluate(X_text_test, y_test)\n",
        "print('')\n",
        "print('Model evaluation using test data')\n",
        "print('')\n",
        "print('Loss: {0:.4f}'.format(results[0]))\n",
        "print(' MAE: {0:.4f}'.format(results[1]))"
      ],
      "execution_count": 26,
      "outputs": [
        {
          "output_type": "stream",
          "text": [
            "4063/4063 [==============================] - 15s 4ms/sample - loss: 0.3563 - mean_absolute_error: 0.4795\n",
            "\n",
            "Model evaluation using test data\n",
            "\n",
            "Loss: 0.3563\n",
            " MAE: 0.4795\n"
          ],
          "name": "stdout"
        }
      ]
    }
  ]
}