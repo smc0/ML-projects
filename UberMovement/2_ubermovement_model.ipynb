{
  "nbformat": 4,
  "nbformat_minor": 0,
  "metadata": {
    "colab": {
      "name": "ubermovement-model",
      "provenance": [],
      "collapsed_sections": [],
      "machine_shape": "hm"
    },
    "kernelspec": {
      "name": "python3",
      "display_name": "Python 3"
    },
    "accelerator": "GPU"
  },
  "cells": [
    {
      "cell_type": "markdown",
      "metadata": {
        "id": "X2o2k7LMSB-B",
        "colab_type": "text"
      },
      "source": [
        "## Modeling driving transit times in Seattle"
      ]
    },
    {
      "cell_type": "markdown",
      "metadata": {
        "id": "8l-X0roFSjND",
        "colab_type": "text"
      },
      "source": [
        "This notebook uses driving data collected from [movement.uber.com](https://movement.uber.com) and distance data calculated from an AWS-hosted [OSRM server](http://project-osrm.org/) to predict transit times. See preprocessing notebook for data preparation."
      ]
    },
    {
      "cell_type": "markdown",
      "metadata": {
        "id": "FZWmGG73TKcl",
        "colab_type": "text"
      },
      "source": [
        "### Mount Google drive as storage\n",
        "\n",
        "\n"
      ]
    },
    {
      "cell_type": "code",
      "metadata": {
        "id": "gFYqV37Rfy7D",
        "colab_type": "code",
        "outputId": "7ae1f1c6-04b0-4e1b-d46e-b08c66849734",
        "colab": {
          "base_uri": "https://localhost:8080/",
          "height": 34
        }
      },
      "source": [
        "from google.colab import drive\n",
        "drive.mount('/content/gdrive')"
      ],
      "execution_count": 135,
      "outputs": [
        {
          "output_type": "stream",
          "text": [
            "Drive already mounted at /content/gdrive; to attempt to forcibly remount, call drive.mount(\"/content/gdrive\", force_remount=True).\n"
          ],
          "name": "stdout"
        }
      ]
    },
    {
      "cell_type": "markdown",
      "metadata": {
        "id": "BhexrFOqUz4p",
        "colab_type": "text"
      },
      "source": [
        "### Import modules\n",
        "\n"
      ]
    },
    {
      "cell_type": "code",
      "metadata": {
        "id": "WpErUOrBiHlM",
        "colab_type": "code",
        "colab": {}
      },
      "source": [
        "from pathlib import Path\n",
        "from pprint import pprint\n",
        "\n",
        "import pandas as pd\n",
        "import numpy as np\n",
        "import random\n",
        "\n",
        "from sklearn.model_selection import train_test_split\n",
        "from sklearn.model_selection import GridSearchCV\n",
        "from sklearn.feature_extraction import FeatureHasher\n",
        "from sklearn.linear_model import LinearRegression\n",
        "from sklearn.ensemble import RandomForestRegressor\n",
        "from sklearn.preprocessing import MinMaxScaler\n",
        "from sklearn import metrics\n",
        "\n",
        "from fastai.tabular import *\n",
        "\n",
        "from keras.optimizers import Adadelta\n",
        "from keras.models import Sequential\n",
        "from keras.models import model_from_json\n",
        "from keras.layers import Dense\n",
        "from keras.layers import Dropout\n",
        "from keras.callbacks import EarlyStopping\n",
        "from keras import regularizers\n",
        "\n",
        "import json\n"
      ],
      "execution_count": 0,
      "outputs": []
    },
    {
      "cell_type": "markdown",
      "metadata": {
        "id": "VqkDzZruo4z5",
        "colab_type": "text"
      },
      "source": [
        "### Load csv with driving and OSRM distance data"
      ]
    },
    {
      "cell_type": "code",
      "metadata": {
        "id": "VejHqVMxfZ5C",
        "colab_type": "code",
        "outputId": "e83be20b-8085-4d75-fa65-1257c1739cae",
        "colab": {
          "base_uri": "https://localhost:8080/",
          "height": 204
        }
      },
      "source": [
        "# load csv as dataframe\n",
        "path = Path('/content/gdrive/My Drive/Python/ubermovement/data')\n",
        "df = pd.read_csv(path/'df3_with_distances_final.csv')\n",
        "\n",
        "# preview the dataframe\n",
        "df.head()"
      ],
      "execution_count": 137,
      "outputs": [
        {
          "output_type": "execute_result",
          "data": {
            "text/html": [
              "<div>\n",
              "<style scoped>\n",
              "    .dataframe tbody tr th:only-of-type {\n",
              "        vertical-align: middle;\n",
              "    }\n",
              "\n",
              "    .dataframe tbody tr th {\n",
              "        vertical-align: top;\n",
              "    }\n",
              "\n",
              "    .dataframe thead th {\n",
              "        text-align: right;\n",
              "    }\n",
              "</style>\n",
              "<table border=\"1\" class=\"dataframe\">\n",
              "  <thead>\n",
              "    <tr style=\"text-align: right;\">\n",
              "      <th></th>\n",
              "      <th>Unnamed: 0</th>\n",
              "      <th>sourceid</th>\n",
              "      <th>dstid</th>\n",
              "      <th>dow</th>\n",
              "      <th>mean_travel_time</th>\n",
              "      <th>standard_deviation_travel_time</th>\n",
              "      <th>geometric_mean_travel_time</th>\n",
              "      <th>geometric_standard_deviation_travel_time</th>\n",
              "      <th>src_lat</th>\n",
              "      <th>src_lon</th>\n",
              "      <th>dst_lat</th>\n",
              "      <th>dst_lon</th>\n",
              "      <th>distance</th>\n",
              "    </tr>\n",
              "  </thead>\n",
              "  <tbody>\n",
              "    <tr>\n",
              "      <th>0</th>\n",
              "      <td>0</td>\n",
              "      <td>719</td>\n",
              "      <td>27</td>\n",
              "      <td>3</td>\n",
              "      <td>1670.75</td>\n",
              "      <td>643.48</td>\n",
              "      <td>1577.05</td>\n",
              "      <td>1.38</td>\n",
              "      <td>47.870603</td>\n",
              "      <td>-122.203015</td>\n",
              "      <td>47.730525</td>\n",
              "      <td>-122.332923</td>\n",
              "      <td>14.540743</td>\n",
              "    </tr>\n",
              "    <tr>\n",
              "      <th>1</th>\n",
              "      <td>1</td>\n",
              "      <td>365</td>\n",
              "      <td>149</td>\n",
              "      <td>5</td>\n",
              "      <td>1073.65</td>\n",
              "      <td>480.03</td>\n",
              "      <td>982.73</td>\n",
              "      <td>1.51</td>\n",
              "      <td>47.685120</td>\n",
              "      <td>-122.349925</td>\n",
              "      <td>47.622924</td>\n",
              "      <td>-122.324658</td>\n",
              "      <td>5.502815</td>\n",
              "    </tr>\n",
              "    <tr>\n",
              "      <th>2</th>\n",
              "      <td>2</td>\n",
              "      <td>775</td>\n",
              "      <td>717</td>\n",
              "      <td>3</td>\n",
              "      <td>1617.82</td>\n",
              "      <td>226.10</td>\n",
              "      <td>1601.29</td>\n",
              "      <td>1.16</td>\n",
              "      <td>48.085921</td>\n",
              "      <td>-122.174539</td>\n",
              "      <td>47.806039</td>\n",
              "      <td>-122.246657</td>\n",
              "      <td>22.603614</td>\n",
              "    </tr>\n",
              "    <tr>\n",
              "      <th>3</th>\n",
              "      <td>3</td>\n",
              "      <td>365</td>\n",
              "      <td>389</td>\n",
              "      <td>6</td>\n",
              "      <td>413.17</td>\n",
              "      <td>164.40</td>\n",
              "      <td>386.37</td>\n",
              "      <td>1.43</td>\n",
              "      <td>47.685120</td>\n",
              "      <td>-122.349925</td>\n",
              "      <td>47.706727</td>\n",
              "      <td>-122.366497</td>\n",
              "      <td>2.244150</td>\n",
              "    </tr>\n",
              "    <tr>\n",
              "      <th>4</th>\n",
              "      <td>4</td>\n",
              "      <td>379</td>\n",
              "      <td>249</td>\n",
              "      <td>6</td>\n",
              "      <td>1379.37</td>\n",
              "      <td>384.10</td>\n",
              "      <td>1334.59</td>\n",
              "      <td>1.28</td>\n",
              "      <td>47.386275</td>\n",
              "      <td>-122.231370</td>\n",
              "      <td>47.632713</td>\n",
              "      <td>-122.173700</td>\n",
              "      <td>19.829247</td>\n",
              "    </tr>\n",
              "  </tbody>\n",
              "</table>\n",
              "</div>"
            ],
            "text/plain": [
              "   Unnamed: 0  sourceid  dstid  ...    dst_lat     dst_lon   distance\n",
              "0           0       719     27  ...  47.730525 -122.332923  14.540743\n",
              "1           1       365    149  ...  47.622924 -122.324658   5.502815\n",
              "2           2       775    717  ...  47.806039 -122.246657  22.603614\n",
              "3           3       365    389  ...  47.706727 -122.366497   2.244150\n",
              "4           4       379    249  ...  47.632713 -122.173700  19.829247\n",
              "\n",
              "[5 rows x 13 columns]"
            ]
          },
          "metadata": {
            "tags": []
          },
          "execution_count": 137
        }
      ]
    },
    {
      "cell_type": "markdown",
      "metadata": {
        "id": "tx3Vr8jHHofP",
        "colab_type": "text"
      },
      "source": [
        "#### Clean up data using conclusions from proprocessing analysis"
      ]
    },
    {
      "cell_type": "code",
      "metadata": {
        "id": "E1x8NCKeH11b",
        "colab_type": "code",
        "colab": {}
      },
      "source": [
        "# drop extra index column and a highly correlated/redundant travel time column\n",
        "df = df.drop(['Unnamed: 0', 'geometric_mean_travel_time'], axis=1)"
      ],
      "execution_count": 0,
      "outputs": []
    },
    {
      "cell_type": "code",
      "metadata": {
        "id": "5YrV-6FZI7le",
        "colab_type": "code",
        "colab": {
          "base_uri": "https://localhost:8080/",
          "height": 306
        },
        "outputId": "b10c867a-09a2-438e-93cc-8bce9d44bf93"
      },
      "source": [
        "# drop a few rows with nan\n",
        "count_nan = np.count_nonzero(df.isnull().values)\n",
        "print('{} missing values in dataset containing {} rows\\n'.format(count_nan, len(df)))\n",
        "if count_nan:\n",
        "  print(df.isnull().sum())\n",
        "  \n",
        "# since distance is an important predictor of 'mean_travel_time' and only a few rows are missing, drop them\n",
        "print('\\nDropping rows with nan:')\n",
        "df.dropna(inplace=True)\n",
        "count_nan = np.count_nonzero(df.isnull().values)\n",
        "print('{} missing values in dataset containing {} rows'.format(count_nan, len(df)))"
      ],
      "execution_count": 139,
      "outputs": [
        {
          "output_type": "stream",
          "text": [
            "5 missing values in dataset containing 540004 rows\n",
            "\n",
            "sourceid                                    0\n",
            "dstid                                       0\n",
            "dow                                         0\n",
            "mean_travel_time                            0\n",
            "standard_deviation_travel_time              0\n",
            "geometric_standard_deviation_travel_time    0\n",
            "src_lat                                     0\n",
            "src_lon                                     0\n",
            "dst_lat                                     0\n",
            "dst_lon                                     0\n",
            "distance                                    5\n",
            "dtype: int64\n",
            "\n",
            "Dropping rows with nan:\n",
            "0 missing values in dataset containing 539999 rows\n"
          ],
          "name": "stdout"
        }
      ]
    },
    {
      "cell_type": "code",
      "metadata": {
        "id": "Rj18tPu-JHCi",
        "colab_type": "code",
        "colab": {
          "base_uri": "https://localhost:8080/",
          "height": 204
        },
        "outputId": "b1dbbacb-b19e-44e0-9b0d-eb1fbf786c76"
      },
      "source": [
        "# drop lat/lon columns (use 'sourceid' and 'distid')\n",
        "df = df.drop(['src_lat','src_lon','dst_lat', 'dst_lon'], axis=1)\n",
        "\n",
        "df.head()"
      ],
      "execution_count": 140,
      "outputs": [
        {
          "output_type": "execute_result",
          "data": {
            "text/html": [
              "<div>\n",
              "<style scoped>\n",
              "    .dataframe tbody tr th:only-of-type {\n",
              "        vertical-align: middle;\n",
              "    }\n",
              "\n",
              "    .dataframe tbody tr th {\n",
              "        vertical-align: top;\n",
              "    }\n",
              "\n",
              "    .dataframe thead th {\n",
              "        text-align: right;\n",
              "    }\n",
              "</style>\n",
              "<table border=\"1\" class=\"dataframe\">\n",
              "  <thead>\n",
              "    <tr style=\"text-align: right;\">\n",
              "      <th></th>\n",
              "      <th>sourceid</th>\n",
              "      <th>dstid</th>\n",
              "      <th>dow</th>\n",
              "      <th>mean_travel_time</th>\n",
              "      <th>standard_deviation_travel_time</th>\n",
              "      <th>geometric_standard_deviation_travel_time</th>\n",
              "      <th>distance</th>\n",
              "    </tr>\n",
              "  </thead>\n",
              "  <tbody>\n",
              "    <tr>\n",
              "      <th>0</th>\n",
              "      <td>719</td>\n",
              "      <td>27</td>\n",
              "      <td>3</td>\n",
              "      <td>1670.75</td>\n",
              "      <td>643.48</td>\n",
              "      <td>1.38</td>\n",
              "      <td>14.540743</td>\n",
              "    </tr>\n",
              "    <tr>\n",
              "      <th>1</th>\n",
              "      <td>365</td>\n",
              "      <td>149</td>\n",
              "      <td>5</td>\n",
              "      <td>1073.65</td>\n",
              "      <td>480.03</td>\n",
              "      <td>1.51</td>\n",
              "      <td>5.502815</td>\n",
              "    </tr>\n",
              "    <tr>\n",
              "      <th>2</th>\n",
              "      <td>775</td>\n",
              "      <td>717</td>\n",
              "      <td>3</td>\n",
              "      <td>1617.82</td>\n",
              "      <td>226.10</td>\n",
              "      <td>1.16</td>\n",
              "      <td>22.603614</td>\n",
              "    </tr>\n",
              "    <tr>\n",
              "      <th>3</th>\n",
              "      <td>365</td>\n",
              "      <td>389</td>\n",
              "      <td>6</td>\n",
              "      <td>413.17</td>\n",
              "      <td>164.40</td>\n",
              "      <td>1.43</td>\n",
              "      <td>2.244150</td>\n",
              "    </tr>\n",
              "    <tr>\n",
              "      <th>4</th>\n",
              "      <td>379</td>\n",
              "      <td>249</td>\n",
              "      <td>6</td>\n",
              "      <td>1379.37</td>\n",
              "      <td>384.10</td>\n",
              "      <td>1.28</td>\n",
              "      <td>19.829247</td>\n",
              "    </tr>\n",
              "  </tbody>\n",
              "</table>\n",
              "</div>"
            ],
            "text/plain": [
              "   sourceid  dstid  ...  geometric_standard_deviation_travel_time   distance\n",
              "0       719     27  ...                                      1.38  14.540743\n",
              "1       365    149  ...                                      1.51   5.502815\n",
              "2       775    717  ...                                      1.16  22.603614\n",
              "3       365    389  ...                                      1.43   2.244150\n",
              "4       379    249  ...                                      1.28  19.829247\n",
              "\n",
              "[5 rows x 7 columns]"
            ]
          },
          "metadata": {
            "tags": []
          },
          "execution_count": 140
        }
      ]
    },
    {
      "cell_type": "code",
      "metadata": {
        "id": "C-6bM6yVhyOp",
        "colab_type": "code",
        "outputId": "6f2317c8-2bfd-4331-b640-753ca81ef16e",
        "colab": {
          "base_uri": "https://localhost:8080/",
          "height": 153
        }
      },
      "source": [
        "# check data types\n",
        "df.dtypes"
      ],
      "execution_count": 141,
      "outputs": [
        {
          "output_type": "execute_result",
          "data": {
            "text/plain": [
              "sourceid                                      int64\n",
              "dstid                                         int64\n",
              "dow                                           int64\n",
              "mean_travel_time                            float64\n",
              "standard_deviation_travel_time              float64\n",
              "geometric_standard_deviation_travel_time    float64\n",
              "distance                                    float64\n",
              "dtype: object"
            ]
          },
          "metadata": {
            "tags": []
          },
          "execution_count": 141
        }
      ]
    },
    {
      "cell_type": "markdown",
      "metadata": {
        "id": "OL4dsRskpp4j",
        "colab_type": "text"
      },
      "source": [
        "### Baseline models"
      ]
    },
    {
      "cell_type": "markdown",
      "metadata": {
        "id": "Rc5Xf1rluWNm",
        "colab_type": "text"
      },
      "source": [
        "#### Median value prediction"
      ]
    },
    {
      "cell_type": "code",
      "metadata": {
        "id": "YyChK7Ycp3gg",
        "colab_type": "code",
        "outputId": "11d2aa65-beea-4f6d-8599-19646a3d4787",
        "colab": {
          "base_uri": "https://localhost:8080/",
          "height": 34
        }
      },
      "source": [
        "# Make predictions using median value for trip time\n",
        "\n",
        "# get array of travel times and split into 'training' and testing sets\n",
        "travel_times = df['mean_travel_time'].values\n",
        "yTrain, yTest = train_test_split(travel_times, test_size=0.2, random_state=42)\n",
        "\n",
        "# get median value of travel times and find MAE of test set\n",
        "prediction = np.median(yTrain)\n",
        "abs_err = abs(yTest - prediction)\n",
        "mae_med = np.mean(abs_err)\n",
        "\n",
        "print('Mean Absolute Error using median prediction: {}'.format(round(mae_med, 2)))"
      ],
      "execution_count": 142,
      "outputs": [
        {
          "output_type": "stream",
          "text": [
            "Mean Absolute Error using median prediction: 446.02\n"
          ],
          "name": "stdout"
        }
      ]
    },
    {
      "cell_type": "markdown",
      "metadata": {
        "id": "fbgg-u04ubef",
        "colab_type": "text"
      },
      "source": [
        "#### Linear Regression"
      ]
    },
    {
      "cell_type": "code",
      "metadata": {
        "id": "zgKVpIgzLZKk",
        "colab_type": "code",
        "outputId": "9389c970-f997-4be5-aa46-ee3cb82eb65c",
        "colab": {
          "base_uri": "https://localhost:8080/",
          "height": 85
        }
      },
      "source": [
        "# Multivariate Linear Regression\n",
        "\n",
        "# define categorical and numeric features\n",
        "cat_feat = ['sourceid', 'dstid', 'dow']\n",
        "num_feat = ['distance']\n",
        "cat_hash = [col + '_hash' for col in cat_feat]\n",
        "\n",
        "# there are too many categorical values to one hot encode (curse of dimensionality)\n",
        "# use hash trick instead\n",
        "\n",
        "df_hash = df.copy()\n",
        "max_size = 100\n",
        "\n",
        "fh = FeatureHasher(n_features=max_size, input_type='string')\n",
        "\n",
        "# hash categorical features and add to df_hash\n",
        "for i in range(len(cat_feat)):\n",
        "  feat_hash = fh.fit_transform( df_hash[cat_feat[i]].astype(str) )  # hash of feature\n",
        "  cols = [cat_feat[i] + 'h' + str(j) for j in range(max_size)]      # create names for hash columns\n",
        "  df_temp = pd.DataFrame(feat_hash.toarray(), columns=cols)         # create temp dataframe of hash\n",
        "  df_hash = pd.concat([df_hash, df_temp], axis=1)                   # append to main dataframe\n",
        "\n",
        "# drop columns used for hashing\n",
        "df_hash.drop(cat_feat, axis=1, inplace=True)\n",
        "\n",
        "# feature hashing creates several nan rows; since there are only a few, just remove them\n",
        "print('{} nan values in target\\n'.format(np.sum(np.isnan(df_hash['mean_travel_time']))))\n",
        "print('Removing nan rows:')\n",
        "df_hash.dropna(inplace=True)\n",
        "print('{} nan values in target'.format(np.sum(np.isnan(df_hash['mean_travel_time']))))"
      ],
      "execution_count": 143,
      "outputs": [
        {
          "output_type": "stream",
          "text": [
            "5 nan values in target\n",
            "\n",
            "Removing nan rows:\n",
            "0 nan values in target\n"
          ],
          "name": "stdout"
        }
      ]
    },
    {
      "cell_type": "code",
      "metadata": {
        "id": "_bEg8vHxVzNR",
        "colab_type": "code",
        "outputId": "a8067623-6c26-493e-8ac4-5fef28eaad64",
        "colab": {
          "base_uri": "https://localhost:8080/",
          "height": 34
        }
      },
      "source": [
        "# create target and feature arrays from dataframe\n",
        "y = df_hash['mean_travel_time'].values\n",
        "X = df_hash.drop('mean_travel_time', axis=1).values\n",
        "\n",
        "# normalize features\n",
        "scaler = MinMaxScaler()\n",
        "X = scaler.fit_transform(X)\n",
        "\n",
        "# split data into training and testing sets\n",
        "xTrain, xTest, yTrain, yTest = train_test_split(X, y, test_size=0.2, random_state=42)\n",
        "\n",
        "# fit the regression model\n",
        "lr = LinearRegression()\n",
        "lr.fit(xTrain, yTrain)"
      ],
      "execution_count": 144,
      "outputs": [
        {
          "output_type": "execute_result",
          "data": {
            "text/plain": [
              "LinearRegression(copy_X=True, fit_intercept=True, n_jobs=None, normalize=False)"
            ]
          },
          "metadata": {
            "tags": []
          },
          "execution_count": 144
        }
      ]
    },
    {
      "cell_type": "code",
      "metadata": {
        "id": "LDBDRlGpo48h",
        "colab_type": "code",
        "outputId": "2529b3ac-1f7c-4cd9-fad0-e6bf4257591b",
        "colab": {
          "base_uri": "https://localhost:8080/",
          "height": 34
        }
      },
      "source": [
        "# generate predictions on test data and calculate MAE\n",
        "y_pred = lr.predict(xTest)\n",
        "mae_lr = metrics.mean_absolute_error(yTest,y_pred)\n",
        "print('Mean Absolute Error using linear regression: {}'.format(round(mae_lr, 2)))"
      ],
      "execution_count": 145,
      "outputs": [
        {
          "output_type": "stream",
          "text": [
            "Mean Absolute Error using linear regression: 166.03\n"
          ],
          "name": "stdout"
        }
      ]
    },
    {
      "cell_type": "markdown",
      "metadata": {
        "id": "6tdC95xzu0Al",
        "colab_type": "text"
      },
      "source": [
        "#### Random forest regression"
      ]
    },
    {
      "cell_type": "code",
      "metadata": {
        "id": "a7_R5_Siq7p0",
        "colab_type": "code",
        "outputId": "f9e44054-1d3e-46c8-a472-d1d2b22b0642",
        "colab": {
          "base_uri": "https://localhost:8080/",
          "height": 136
        }
      },
      "source": [
        "# note that we are using 'mse' to optimize since 'mae' is prohibitively slow\n",
        "# see https://github.com/scikit-learn/scikit-learn/issues/9626\n",
        "\n",
        "rfreg = RandomForestRegressor(n_estimators=10, random_state=42, verbose=0, n_jobs=-1)\n",
        "rfreg.fit(xTrain, yTrain)"
      ],
      "execution_count": 146,
      "outputs": [
        {
          "output_type": "execute_result",
          "data": {
            "text/plain": [
              "RandomForestRegressor(bootstrap=True, criterion='mse', max_depth=None,\n",
              "                      max_features='auto', max_leaf_nodes=None,\n",
              "                      min_impurity_decrease=0.0, min_impurity_split=None,\n",
              "                      min_samples_leaf=1, min_samples_split=2,\n",
              "                      min_weight_fraction_leaf=0.0, n_estimators=10, n_jobs=-1,\n",
              "                      oob_score=False, random_state=42, verbose=0,\n",
              "                      warm_start=False)"
            ]
          },
          "metadata": {
            "tags": []
          },
          "execution_count": 146
        }
      ]
    },
    {
      "cell_type": "code",
      "metadata": {
        "id": "gaOLZkj0z8FU",
        "colab_type": "code",
        "outputId": "4c081255-cd29-48b7-aa19-ce3feaa41dc7",
        "colab": {
          "base_uri": "https://localhost:8080/",
          "height": 34
        }
      },
      "source": [
        "# generate predictions for test data and calculate MAE\n",
        "y_pred = rfreg.predict(xTest)\n",
        "mae_rf = metrics.mean_absolute_error(yTest, y_pred)\n",
        "print('Mean Absolute Error using random forest: {}'.format(round(mae_rf, 2)))"
      ],
      "execution_count": 147,
      "outputs": [
        {
          "output_type": "stream",
          "text": [
            "Mean Absolute Error using random forest: 93.16\n"
          ],
          "name": "stdout"
        }
      ]
    },
    {
      "cell_type": "markdown",
      "metadata": {
        "id": "NhtGSzR_0_0b",
        "colab_type": "text"
      },
      "source": [
        "#### Random forest grid search"
      ]
    },
    {
      "cell_type": "code",
      "metadata": {
        "id": "aS52CiIVo56V",
        "colab_type": "code",
        "outputId": "067ec1a8-62ee-44c9-a455-a50e11a28f6a",
        "colab": {
          "base_uri": "https://localhost:8080/",
          "height": 323
        }
      },
      "source": [
        "# Random forest regression fits with the lowest MAE\n",
        "# Try performing a grid search to optimize hyperparameters\n",
        "\n",
        "print('Current RF parameters:\\n')\n",
        "pprint(reg.get_params())"
      ],
      "execution_count": 0,
      "outputs": [
        {
          "output_type": "stream",
          "text": [
            "Current RF parameters:\n",
            "\n",
            "{'bootstrap': True,\n",
            " 'criterion': 'mse',\n",
            " 'max_depth': None,\n",
            " 'max_features': 'auto',\n",
            " 'max_leaf_nodes': None,\n",
            " 'min_impurity_decrease': 0.0,\n",
            " 'min_impurity_split': None,\n",
            " 'min_samples_leaf': 1,\n",
            " 'min_samples_split': 2,\n",
            " 'min_weight_fraction_leaf': 0.0,\n",
            " 'n_estimators': 10,\n",
            " 'n_jobs': None,\n",
            " 'oob_score': False,\n",
            " 'random_state': 42,\n",
            " 'verbose': 0,\n",
            " 'warm_start': False}\n"
          ],
          "name": "stdout"
        }
      ]
    },
    {
      "cell_type": "code",
      "metadata": {
        "id": "A_im9jB209jq",
        "colab_type": "code",
        "outputId": "8c618b73-d6e7-40fb-9e52-3164db631003",
        "colab": {
          "base_uri": "https://localhost:8080/",
          "height": 425
        }
      },
      "source": [
        "# limit hyperparameter options since modeling is slow\n",
        "param_grid = { \n",
        "    'n_estimators': [10, 50],\n",
        "    'max_features': ['sqrt', 'auto'], # 6 total features\n",
        "    'max_depth' : [3, 10, 50]\n",
        "}\n",
        "\n",
        "# perform cross-validated grid search\n",
        "CV_rfr = GridSearchCV(estimator=RandomForestRegressor(), param_grid=param_grid, cv=3, n_jobs=-1, verbose=1)\n",
        "CV_rfr.fit(xTrain, yTrain)"
      ],
      "execution_count": 29,
      "outputs": [
        {
          "output_type": "stream",
          "text": [
            "Fitting 3 folds for each of 12 candidates, totalling 36 fits\n"
          ],
          "name": "stdout"
        },
        {
          "output_type": "stream",
          "text": [
            "[Parallel(n_jobs=-1)]: Using backend LokyBackend with 4 concurrent workers.\n",
            "/usr/local/lib/python3.6/dist-packages/joblib/externals/loky/process_executor.py:706: UserWarning: A worker stopped while some jobs were given to the executor. This can be caused by a too short worker timeout or by a memory leak.\n",
            "  \"timeout or by a memory leak.\", UserWarning\n",
            "[Parallel(n_jobs=-1)]: Done  36 out of  36 | elapsed: 12.3min finished\n"
          ],
          "name": "stderr"
        },
        {
          "output_type": "execute_result",
          "data": {
            "text/plain": [
              "GridSearchCV(cv=3, error_score='raise-deprecating',\n",
              "             estimator=RandomForestRegressor(bootstrap=True, criterion='mse',\n",
              "                                             max_depth=None,\n",
              "                                             max_features='auto',\n",
              "                                             max_leaf_nodes=None,\n",
              "                                             min_impurity_decrease=0.0,\n",
              "                                             min_impurity_split=None,\n",
              "                                             min_samples_leaf=1,\n",
              "                                             min_samples_split=2,\n",
              "                                             min_weight_fraction_leaf=0.0,\n",
              "                                             n_estimators='warn', n_jobs=None,\n",
              "                                             oob_score=False, random_state=None,\n",
              "                                             verbose=0, warm_start=False),\n",
              "             iid='warn', n_jobs=-1,\n",
              "             param_grid={'max_depth': [3, 10, 50],\n",
              "                         'max_features': ['sqrt', 'auto'],\n",
              "                         'n_estimators': [10, 50]},\n",
              "             pre_dispatch='2*n_jobs', refit=True, return_train_score=False,\n",
              "             scoring=None, verbose=1)"
            ]
          },
          "metadata": {
            "tags": []
          },
          "execution_count": 29
        }
      ]
    },
    {
      "cell_type": "code",
      "metadata": {
        "id": "yRu-W_tpleOU",
        "colab_type": "code",
        "outputId": "a70fff29-1534-46f1-e2c5-ad49d9624688",
        "colab": {
          "base_uri": "https://localhost:8080/",
          "height": 136
        }
      },
      "source": [
        "# We won't tune hyperparameters further due to long processing time; \n",
        "# the takeaway in this case is that more features/estimators/depth perform better\n",
        "CV_rfr.best_estimator_"
      ],
      "execution_count": 34,
      "outputs": [
        {
          "output_type": "execute_result",
          "data": {
            "text/plain": [
              "RandomForestRegressor(bootstrap=True, criterion='mse', max_depth=50,\n",
              "                      max_features='auto', max_leaf_nodes=None,\n",
              "                      min_impurity_decrease=0.0, min_impurity_split=None,\n",
              "                      min_samples_leaf=1, min_samples_split=2,\n",
              "                      min_weight_fraction_leaf=0.0, n_estimators=50,\n",
              "                      n_jobs=None, oob_score=False, random_state=None,\n",
              "                      verbose=0, warm_start=False)"
            ]
          },
          "metadata": {
            "tags": []
          },
          "execution_count": 34
        }
      ]
    },
    {
      "cell_type": "code",
      "metadata": {
        "id": "f-Sbz0DfUEgg",
        "colab_type": "code",
        "colab": {
          "base_uri": "https://localhost:8080/",
          "height": 136
        },
        "outputId": "5984446b-2f4d-4e0e-8704-83d374fe77e3"
      },
      "source": [
        "# the grid search suggests using more estimators\n",
        "rfreg = RandomForestRegressor(n_estimators=50, random_state=42, verbose=0, n_jobs=-1)\n",
        "rfreg.fit(xTrain, yTrain)"
      ],
      "execution_count": 151,
      "outputs": [
        {
          "output_type": "execute_result",
          "data": {
            "text/plain": [
              "RandomForestRegressor(bootstrap=True, criterion='mse', max_depth=None,\n",
              "                      max_features='auto', max_leaf_nodes=None,\n",
              "                      min_impurity_decrease=0.0, min_impurity_split=None,\n",
              "                      min_samples_leaf=1, min_samples_split=2,\n",
              "                      min_weight_fraction_leaf=0.0, n_estimators=50, n_jobs=-1,\n",
              "                      oob_score=False, random_state=42, verbose=0,\n",
              "                      warm_start=False)"
            ]
          },
          "metadata": {
            "tags": []
          },
          "execution_count": 151
        }
      ]
    },
    {
      "cell_type": "code",
      "metadata": {
        "id": "XmEqq26lIiLW",
        "colab_type": "code",
        "colab": {
          "base_uri": "https://localhost:8080/",
          "height": 34
        },
        "outputId": "ec0e14d2-15d6-48eb-83d8-9f4a1aff3f8b"
      },
      "source": [
        "# generate predictions for test data and calculate MAE\n",
        "y_pred = rfreg.predict(xTest)\n",
        "mae_rf_best = metrics.mean_absolute_error(yTest, y_pred)\n",
        "print('Mean Absolute Error using random forest: {} ({}% improvement)'.format(round(mae_rf_best, 2), round((mae_rf - mae_rf_best)/mae_rf*100, 2)))\n"
      ],
      "execution_count": 152,
      "outputs": [
        {
          "output_type": "stream",
          "text": [
            "Mean Absolute Error using random forest: 89.56 (3.86% improvement)\n"
          ],
          "name": "stdout"
        }
      ]
    },
    {
      "cell_type": "code",
      "metadata": {
        "id": "NTW9S7AbHshG",
        "colab_type": "code",
        "colab": {
          "base_uri": "https://localhost:8080/",
          "height": 34
        },
        "outputId": "379fb7ff-3601-4527-fe45-de93daebb691"
      },
      "source": [
        "mae_rf_best"
      ],
      "execution_count": 150,
      "outputs": [
        {
          "output_type": "execute_result",
          "data": {
            "text/plain": [
              "93.16129371568256"
            ]
          },
          "metadata": {
            "tags": []
          },
          "execution_count": 150
        }
      ]
    },
    {
      "cell_type": "markdown",
      "metadata": {
        "id": "Ma9ANCgYYAue",
        "colab_type": "text"
      },
      "source": [
        "Increasing the number of estimators from 10 to 50 lowers the MAE by ~4% but takes much longer to train. This might be worth it in some cases, but let's next try using neural networks."
      ]
    },
    {
      "cell_type": "markdown",
      "metadata": {
        "id": "bTDIuHAIpks7",
        "colab_type": "text"
      },
      "source": [
        "### Neural Networks"
      ]
    },
    {
      "cell_type": "markdown",
      "metadata": {
        "id": "545TNcAbpr2_",
        "colab_type": "text"
      },
      "source": [
        "#### Fastai with PyTorch"
      ]
    },
    {
      "cell_type": "code",
      "metadata": {
        "id": "e6qCNzuSTQnL",
        "colab_type": "code",
        "colab": {
          "base_uri": "https://localhost:8080/",
          "height": 51
        },
        "outputId": "d133d091-a33c-4728-ae50-11611690d2d0"
      },
      "source": [
        "# set up fastai for Google Colab environment\n",
        "!curl -s https://course.fast.ai/setup/colab | bash"
      ],
      "execution_count": 8,
      "outputs": [
        {
          "output_type": "stream",
          "text": [
            "Updating fastai...\n",
            "Done.\n"
          ],
          "name": "stdout"
        }
      ]
    },
    {
      "cell_type": "code",
      "metadata": {
        "id": "lQCBxfasb_BZ",
        "colab_type": "code",
        "colab": {}
      },
      "source": [
        "# split dataframe into train and test sets (90/10 split)\n",
        "\n",
        "# create bool mask to apply random uniform selection of df for training\n",
        "msk = np.random.rand(len(df)) < 0.9\n",
        "df_train = df[msk]\n",
        "df_test = df[~msk]"
      ],
      "execution_count": 0,
      "outputs": []
    },
    {
      "cell_type": "code",
      "metadata": {
        "id": "jWYXNwfPgr8-",
        "colab_type": "code",
        "colab": {
          "base_uri": "https://localhost:8080/",
          "height": 238
        },
        "outputId": "0902f35e-3529-4567-f715-987b753d76cd"
      },
      "source": [
        "# include these preprocessing steps\n",
        "procs = [Categorify, Normalize]\n",
        "\n",
        "# set validation data range within training set\n",
        "val_pct = 0.1\n",
        "valid_idx = range(len(df_train) - round( val_pct*len(df_train) ), len(df_train))\n",
        "\n",
        "# define dependent (target), categorical, and continuous variables\n",
        "dep_var = 'mean_travel_time'\n",
        "cat_names = ['dow','sourceid', 'dstid']\n",
        "cont_names = ['distance', 'standard_deviation_travel_time', 'geometric_standard_deviation_travel_time']\n",
        "\n",
        "# create a databunch\n",
        "#data = TabularDataBunch.from_df(path, df, dep_var, valid_idx=valid_idx, procs=procs, cat_names=cat_names)\n",
        "\n",
        "# test tabular list\n",
        "test = TabularList.from_df(df_test, cat_names=cat_names, cont_names=cont_names, procs=procs)\n",
        "\n",
        "# train data bunch\n",
        "data = (TabularList.from_df(df_train, path=path, cat_names=cat_names, cont_names=cont_names, procs=procs)\n",
        "                        .split_by_idx(valid_idx)\n",
        "                        .label_from_df(cols=dep_var)\n",
        "                        .add_test(test) # remove this from model; apply test after export and reload\n",
        "                        .databunch(bs=1024))\n",
        "\n",
        "# show continuous var names (excluding target)\n",
        "cont_names = data.train_ds.cont_names\n",
        "print(data.train_ds.cont_names, '\\n')\n",
        "\n",
        "# preview a few rows of one data batch with 'procs' applied\n",
        "data.show_batch(rows=5)"
      ],
      "execution_count": 10,
      "outputs": [
        {
          "output_type": "stream",
          "text": [
            "['distance', 'standard_deviation_travel_time', 'geometric_standard_deviation_travel_time'] \n",
            "\n"
          ],
          "name": "stdout"
        },
        {
          "output_type": "display_data",
          "data": {
            "text/html": [
              "<table border=\"1\" class=\"dataframe\">\n",
              "  <thead>\n",
              "    <tr style=\"text-align: right;\">\n",
              "      <th>dow</th>\n",
              "      <th>sourceid</th>\n",
              "      <th>dstid</th>\n",
              "      <th>distance</th>\n",
              "      <th>standard_deviation_travel_time</th>\n",
              "      <th>geometric_standard_deviation_travel_time</th>\n",
              "      <th>target</th>\n",
              "    </tr>\n",
              "  </thead>\n",
              "  <tbody>\n",
              "    <tr>\n",
              "      <td>2</td>\n",
              "      <td>350</td>\n",
              "      <td>227</td>\n",
              "      <td>-0.4455</td>\n",
              "      <td>0.5871</td>\n",
              "      <td>0.1327</td>\n",
              "      <td>1103.2</td>\n",
              "    </tr>\n",
              "    <tr>\n",
              "      <td>3</td>\n",
              "      <td>655</td>\n",
              "      <td>656</td>\n",
              "      <td>-1.1335</td>\n",
              "      <td>-0.6290</td>\n",
              "      <td>5.5171</td>\n",
              "      <td>313.52</td>\n",
              "    </tr>\n",
              "    <tr>\n",
              "      <td>1</td>\n",
              "      <td>191</td>\n",
              "      <td>23</td>\n",
              "      <td>-0.2658</td>\n",
              "      <td>0.2228</td>\n",
              "      <td>0.0646</td>\n",
              "      <td>1028.08</td>\n",
              "    </tr>\n",
              "    <tr>\n",
              "      <td>6</td>\n",
              "      <td>366</td>\n",
              "      <td>306</td>\n",
              "      <td>-1.2177</td>\n",
              "      <td>-0.9031</td>\n",
              "      <td>1.4618</td>\n",
              "      <td>267.39</td>\n",
              "    </tr>\n",
              "    <tr>\n",
              "      <td>5</td>\n",
              "      <td>671</td>\n",
              "      <td>651</td>\n",
              "      <td>-0.6247</td>\n",
              "      <td>-0.0466</td>\n",
              "      <td>0.1668</td>\n",
              "      <td>899.14</td>\n",
              "    </tr>\n",
              "  </tbody>\n",
              "</table>"
            ],
            "text/plain": [
              "<IPython.core.display.HTML object>"
            ]
          },
          "metadata": {
            "tags": []
          }
        }
      ]
    },
    {
      "cell_type": "code",
      "metadata": {
        "id": "RLgLpPi3rF85",
        "colab_type": "code",
        "outputId": "a6e8efe5-6e4d-4456-b952-a87a46a32e44",
        "colab": {
          "base_uri": "https://localhost:8080/",
          "height": 300
        }
      },
      "source": [
        "# initialize learner\n",
        "learn = tabular_learner(data, layers=[200,100], metrics=mean_absolute_error, callback_fns=ShowGraph)\n",
        "\n",
        "# create plot to select appropriate learning rate\n",
        "learn.lr_find()\n",
        "learn.recorder.plot()"
      ],
      "execution_count": 17,
      "outputs": [
        {
          "output_type": "display_data",
          "data": {
            "text/html": [
              ""
            ],
            "text/plain": [
              "<IPython.core.display.HTML object>"
            ]
          },
          "metadata": {
            "tags": []
          }
        },
        {
          "output_type": "stream",
          "text": [
            "LR Finder is complete, type {learner_name}.recorder.plot() to see the graph.\n"
          ],
          "name": "stdout"
        },
        {
          "output_type": "display_data",
          "data": {
            "image/png": "[encoded data removed]",
            "text/plain": [
              "<Figure size 432x288 with 1 Axes>"
            ]
          },
          "metadata": {
            "tags": []
          }
        }
      ]
    },
    {
      "cell_type": "code",
      "metadata": {
        "id": "YJkdtRX42WgT",
        "colab_type": "code",
        "outputId": "c331e18e-0f0d-4d49-cc53-d9e723d92987",
        "colab": {
          "base_uri": "https://localhost:8080/",
          "height": 766
        }
      },
      "source": [
        "# fit model using selected learning rate\n",
        "learn.fit_one_cycle(15, max_lr=2e-1)"
      ],
      "execution_count": 18,
      "outputs": [
        {
          "output_type": "display_data",
          "data": {
            "text/html": [
              "<table border=\"1\" class=\"dataframe\">\n",
              "  <thead>\n",
              "    <tr style=\"text-align: left;\">\n",
              "      <th>epoch</th>\n",
              "      <th>train_loss</th>\n",
              "      <th>valid_loss</th>\n",
              "      <th>mean_absolute_error</th>\n",
              "      <th>time</th>\n",
              "    </tr>\n",
              "  </thead>\n",
              "  <tbody>\n",
              "    <tr>\n",
              "      <td>0</td>\n",
              "      <td>25762.410156</td>\n",
              "      <td>16604.824219</td>\n",
              "      <td>96.942650</td>\n",
              "      <td>00:14</td>\n",
              "    </tr>\n",
              "    <tr>\n",
              "      <td>1</td>\n",
              "      <td>10863.067383</td>\n",
              "      <td>15751.506836</td>\n",
              "      <td>96.084465</td>\n",
              "      <td>00:14</td>\n",
              "    </tr>\n",
              "    <tr>\n",
              "      <td>2</td>\n",
              "      <td>11086.836914</td>\n",
              "      <td>20900.531250</td>\n",
              "      <td>115.305099</td>\n",
              "      <td>00:15</td>\n",
              "    </tr>\n",
              "    <tr>\n",
              "      <td>3</td>\n",
              "      <td>10386.590820</td>\n",
              "      <td>8920.645508</td>\n",
              "      <td>69.483734</td>\n",
              "      <td>00:15</td>\n",
              "    </tr>\n",
              "    <tr>\n",
              "      <td>4</td>\n",
              "      <td>10803.862305</td>\n",
              "      <td>9797.323242</td>\n",
              "      <td>75.316353</td>\n",
              "      <td>00:15</td>\n",
              "    </tr>\n",
              "    <tr>\n",
              "      <td>5</td>\n",
              "      <td>9558.250977</td>\n",
              "      <td>10873.405273</td>\n",
              "      <td>80.334129</td>\n",
              "      <td>00:15</td>\n",
              "    </tr>\n",
              "    <tr>\n",
              "      <td>6</td>\n",
              "      <td>8950.358398</td>\n",
              "      <td>10229.153320</td>\n",
              "      <td>75.757034</td>\n",
              "      <td>00:15</td>\n",
              "    </tr>\n",
              "    <tr>\n",
              "      <td>7</td>\n",
              "      <td>8402.222656</td>\n",
              "      <td>8639.273438</td>\n",
              "      <td>68.353279</td>\n",
              "      <td>00:15</td>\n",
              "    </tr>\n",
              "    <tr>\n",
              "      <td>8</td>\n",
              "      <td>7913.709961</td>\n",
              "      <td>489397.062500</td>\n",
              "      <td>81.166977</td>\n",
              "      <td>00:15</td>\n",
              "    </tr>\n",
              "    <tr>\n",
              "      <td>9</td>\n",
              "      <td>7214.141602</td>\n",
              "      <td>6891.637207</td>\n",
              "      <td>60.724457</td>\n",
              "      <td>00:14</td>\n",
              "    </tr>\n",
              "    <tr>\n",
              "      <td>10</td>\n",
              "      <td>6468.828613</td>\n",
              "      <td>5229.614746</td>\n",
              "      <td>52.180141</td>\n",
              "      <td>00:14</td>\n",
              "    </tr>\n",
              "    <tr>\n",
              "      <td>11</td>\n",
              "      <td>5464.062988</td>\n",
              "      <td>4731.121582</td>\n",
              "      <td>49.423759</td>\n",
              "      <td>00:15</td>\n",
              "    </tr>\n",
              "    <tr>\n",
              "      <td>12</td>\n",
              "      <td>4372.966309</td>\n",
              "      <td>4292.606445</td>\n",
              "      <td>47.790356</td>\n",
              "      <td>00:15</td>\n",
              "    </tr>\n",
              "    <tr>\n",
              "      <td>13</td>\n",
              "      <td>3849.095215</td>\n",
              "      <td>3725.239258</td>\n",
              "      <td>43.225048</td>\n",
              "      <td>00:15</td>\n",
              "    </tr>\n",
              "    <tr>\n",
              "      <td>14</td>\n",
              "      <td>3363.463379</td>\n",
              "      <td>3599.103760</td>\n",
              "      <td>42.065289</td>\n",
              "      <td>00:15</td>\n",
              "    </tr>\n",
              "  </tbody>\n",
              "</table>"
            ],
            "text/plain": [
              "<IPython.core.display.HTML object>"
            ]
          },
          "metadata": {
            "tags": []
          }
        },
        {
          "output_type": "display_data",
          "data": {
            "image/png": "[encoded data removed]",
            "text/plain": [
              "<Figure size 432x288 with 1 Axes>"
            ]
          },
          "metadata": {
            "tags": []
          }
        }
      ]
    },
    {
      "cell_type": "code",
      "metadata": {
        "id": "ub7B3Z1o6YHy",
        "colab_type": "code",
        "colab": {}
      },
      "source": [
        "# export the model\n",
        "if False:\n",
        "  learn.export('model_epoch_15_mae_42.pkl')"
      ],
      "execution_count": 0,
      "outputs": []
    },
    {
      "cell_type": "code",
      "metadata": {
        "id": "f8S5VaFYIe_C",
        "colab_type": "code",
        "colab": {}
      },
      "source": [
        "# reload model for use with test data\n",
        "learn = load_learner(path, 'model_epoch_15_mae_42.pkl', test=df_test)"
      ],
      "execution_count": 0,
      "outputs": []
    },
    {
      "cell_type": "code",
      "metadata": {
        "id": "JjvYeNRFJXzg",
        "colab_type": "code",
        "colab": {
          "base_uri": "https://localhost:8080/",
          "height": 221
        },
        "outputId": "6d1be077-a8d3-4a11-f0e5-eced98dc262e"
      },
      "source": [
        "# use model for predictions on test data\n",
        "y_test = df_test['mean_travel_time']\n",
        "X_test = df_test.drop('mean_travel_time', axis=1)\n",
        "\n",
        "# predict one item\n",
        "row = 5\n",
        "pred_val = learn.predict(X_test.iloc[row])[0].data[0]\n",
        "\n",
        "print('Features:\\n')\n",
        "print(X_test.iloc[5], '\\n')\n",
        "print('mean_travel_time prediction: {}'.format(round(pred_val.astype('float'),2)))\n",
        "print('mean_travel_time target:     {}'.format(y_test.iloc[row]))"
      ],
      "execution_count": 49,
      "outputs": [
        {
          "output_type": "stream",
          "text": [
            "Features:\n",
            "\n",
            "sourceid                                    666.00000\n",
            "dstid                                        89.00000\n",
            "dow                                           4.00000\n",
            "standard_deviation_travel_time              770.84000\n",
            "geometric_standard_deviation_travel_time      1.44000\n",
            "distance                                     21.80136\n",
            "Name: 58, dtype: float64 \n",
            "\n",
            "mean_travel_time prediction: 1691.43\n",
            "mean_travel_time target:     1639.29\n"
          ],
          "name": "stdout"
        }
      ]
    },
    {
      "cell_type": "code",
      "metadata": {
        "id": "a_NHe4nyDcF3",
        "colab_type": "code",
        "colab": {
          "base_uri": "https://localhost:8080/",
          "height": 34
        },
        "outputId": "8f2b8d8d-3daf-470a-8335-e6241ec4bb6a"
      },
      "source": [
        "# make predictions for test set\n",
        "\n",
        "# create test tabular list\n",
        "tabList = TabularList.from_df(df_test, cat_names=cat_names, cont_names=cont_names, procs=procs)\n",
        "\n",
        "# reload model for use with tabList test set and get predictions\n",
        "learn = load_learner(path, 'model_epoch_15_mae_42.pkl', test=tabList)\n",
        "preds, _ = learn.get_preds(ds_type=DatasetType.Test)\n",
        "\n",
        "# calculate mae for test set\n",
        "preds_np = preds.numpy().ravel()\n",
        "targets = y_test.values.astype('float32')\n",
        "mae_nn = np.mean(abs(preds_np - targets)).astype('float')\n",
        "print('Mean Absolute Error using fastai neural net: {}'.format(round(mae_nn, 2)))"
      ],
      "execution_count": 118,
      "outputs": [
        {
          "output_type": "stream",
          "text": [
            "Mean Absolute Error using fastai neural net: 37.98\n"
          ],
          "name": "stdout"
        }
      ]
    },
    {
      "cell_type": "markdown",
      "metadata": {
        "id": "o9qgA_ikm2fQ",
        "colab_type": "text"
      },
      "source": [
        "#### Keras sequential model"
      ]
    },
    {
      "cell_type": "code",
      "metadata": {
        "id": "rrOGu4R5uEGU",
        "colab_type": "code",
        "outputId": "33f90d58-97ff-4e8e-fa7b-42a96ae8f4ba",
        "colab": {
          "base_uri": "https://localhost:8080/",
          "height": 1000
        }
      },
      "source": [
        "# split training set into training and validation (reserve test set)\n",
        "xTrain_partial, x_val, yTrain_partial, y_val = train_test_split(xTrain, yTrain, test_size=0.2, random_state=42)\n",
        "\n",
        "# build sequential model\n",
        "model = Sequential()\n",
        "model.add(Dense(500, input_shape=(xTrain_partial.shape[1],), kernel_initializer='normal', activation='relu'))\n",
        "model.add(Dense(200, kernel_initializer='normal', activation='relu'))\n",
        "model.add(Dense(100, kernel_initializer='normal', activation='relu'))\n",
        "model.add(Dense(1, kernel_initializer='normal'))\n",
        "\n",
        "# compile model\n",
        "model.compile(loss='mean_absolute_error', optimizer=Adadelta())\n",
        "\n",
        "# add early stopping callback\n",
        "useEarlyStopping = True\n",
        "if useEarlyStopping:\n",
        "  callbacks = [EarlyStopping(monitor='val_loss', patience=20, min_delta=0.0001)]\n",
        "else:\n",
        "  callbacks=None\n",
        "\n",
        "# fit the model\n",
        "history = model.fit(xTrain_partial,\n",
        "                    yTrain_partial,\n",
        "                    epochs=100,\n",
        "                    verbose=1,\n",
        "                    batch_size=1024,\n",
        "                    validation_data=(x_val, y_val),\n",
        "                    callbacks=callbacks)"
      ],
      "execution_count": 63,
      "outputs": [
        {
          "output_type": "stream",
          "text": [
            "Train on 345596 samples, validate on 86399 samples\n",
            "Epoch 1/100\n",
            "345596/345596 [==============================] - 3s 9us/step - loss: 534.3381 - val_loss: 611.0154\n",
            "Epoch 2/100\n",
            "345596/345596 [==============================] - 3s 8us/step - loss: 382.4815 - val_loss: 194.7999\n",
            "Epoch 3/100\n",
            "345596/345596 [==============================] - 3s 8us/step - loss: 292.2486 - val_loss: 367.3594\n",
            "Epoch 4/100\n",
            "345596/345596 [==============================] - 3s 8us/step - loss: 278.2095 - val_loss: 276.5358\n",
            "Epoch 5/100\n",
            "345596/345596 [==============================] - 3s 8us/step - loss: 264.7289 - val_loss: 296.5596\n",
            "Epoch 6/100\n",
            "345596/345596 [==============================] - 3s 8us/step - loss: 254.3581 - val_loss: 254.9961\n",
            "Epoch 7/100\n",
            "345596/345596 [==============================] - 3s 8us/step - loss: 244.2438 - val_loss: 273.8572\n",
            "Epoch 8/100\n",
            "345596/345596 [==============================] - 3s 8us/step - loss: 236.6796 - val_loss: 250.3918\n",
            "Epoch 9/100\n",
            "345596/345596 [==============================] - 3s 8us/step - loss: 229.3896 - val_loss: 259.4574\n",
            "Epoch 10/100\n",
            "345596/345596 [==============================] - 3s 8us/step - loss: 224.8086 - val_loss: 244.3622\n",
            "Epoch 11/100\n",
            "345596/345596 [==============================] - 3s 8us/step - loss: 217.7555 - val_loss: 223.4608\n",
            "Epoch 12/100\n",
            "345596/345596 [==============================] - 3s 8us/step - loss: 212.7550 - val_loss: 223.4700\n",
            "Epoch 13/100\n",
            "345596/345596 [==============================] - 3s 8us/step - loss: 208.2055 - val_loss: 225.9318\n",
            "Epoch 14/100\n",
            "345596/345596 [==============================] - 3s 8us/step - loss: 203.3762 - val_loss: 215.8109\n",
            "Epoch 15/100\n",
            "345596/345596 [==============================] - 3s 8us/step - loss: 200.3472 - val_loss: 204.8312\n",
            "Epoch 16/100\n",
            "345596/345596 [==============================] - 3s 8us/step - loss: 195.3334 - val_loss: 222.1708\n",
            "Epoch 17/100\n",
            "345596/345596 [==============================] - 3s 8us/step - loss: 192.9079 - val_loss: 193.7816\n",
            "Epoch 18/100\n",
            "345596/345596 [==============================] - 3s 8us/step - loss: 190.4815 - val_loss: 203.8168\n",
            "Epoch 19/100\n",
            "345596/345596 [==============================] - 3s 8us/step - loss: 187.9772 - val_loss: 192.5383\n",
            "Epoch 20/100\n",
            "345596/345596 [==============================] - 3s 8us/step - loss: 186.6199 - val_loss: 176.4679\n",
            "Epoch 21/100\n",
            "345596/345596 [==============================] - 3s 8us/step - loss: 183.1123 - val_loss: 192.6123\n",
            "Epoch 22/100\n",
            "345596/345596 [==============================] - 3s 8us/step - loss: 181.5504 - val_loss: 197.0362\n",
            "Epoch 23/100\n",
            "345596/345596 [==============================] - 3s 8us/step - loss: 178.8032 - val_loss: 177.8658\n",
            "Epoch 24/100\n",
            "345596/345596 [==============================] - 3s 8us/step - loss: 177.4577 - val_loss: 173.1867\n",
            "Epoch 25/100\n",
            "345596/345596 [==============================] - 3s 8us/step - loss: 175.4679 - val_loss: 175.9274\n",
            "Epoch 26/100\n",
            "345596/345596 [==============================] - 3s 8us/step - loss: 173.5258 - val_loss: 170.4525\n",
            "Epoch 27/100\n",
            "345596/345596 [==============================] - 3s 8us/step - loss: 171.6186 - val_loss: 174.4586\n",
            "Epoch 28/100\n",
            "345596/345596 [==============================] - 3s 8us/step - loss: 169.6045 - val_loss: 181.2475\n",
            "Epoch 29/100\n",
            "345596/345596 [==============================] - 3s 8us/step - loss: 168.3696 - val_loss: 187.7623\n",
            "Epoch 30/100\n",
            "345596/345596 [==============================] - 3s 8us/step - loss: 167.3244 - val_loss: 165.7475\n",
            "Epoch 31/100\n",
            "345596/345596 [==============================] - 3s 8us/step - loss: 164.8647 - val_loss: 164.1480\n",
            "Epoch 32/100\n",
            "345596/345596 [==============================] - 3s 8us/step - loss: 163.2642 - val_loss: 159.4374\n",
            "Epoch 33/100\n",
            "345596/345596 [==============================] - 3s 8us/step - loss: 162.1995 - val_loss: 175.8724\n",
            "Epoch 34/100\n",
            "345596/345596 [==============================] - 3s 8us/step - loss: 160.4954 - val_loss: 159.8286\n",
            "Epoch 35/100\n",
            "345596/345596 [==============================] - 3s 8us/step - loss: 158.5758 - val_loss: 162.7983\n",
            "Epoch 36/100\n",
            "345596/345596 [==============================] - 3s 8us/step - loss: 157.3354 - val_loss: 166.4086\n",
            "Epoch 37/100\n",
            "345596/345596 [==============================] - 3s 8us/step - loss: 155.5894 - val_loss: 143.0940\n",
            "Epoch 38/100\n",
            "345596/345596 [==============================] - 3s 8us/step - loss: 155.2800 - val_loss: 175.5921\n",
            "Epoch 39/100\n",
            "345596/345596 [==============================] - 3s 8us/step - loss: 153.1530 - val_loss: 174.7383\n",
            "Epoch 40/100\n",
            "345596/345596 [==============================] - 3s 8us/step - loss: 151.5799 - val_loss: 164.1986\n",
            "Epoch 41/100\n",
            "345596/345596 [==============================] - 3s 8us/step - loss: 150.3924 - val_loss: 157.2940\n",
            "Epoch 42/100\n",
            "345596/345596 [==============================] - 3s 8us/step - loss: 149.8417 - val_loss: 160.8924\n",
            "Epoch 43/100\n",
            "345596/345596 [==============================] - 3s 8us/step - loss: 148.1803 - val_loss: 157.1512\n",
            "Epoch 44/100\n",
            "345596/345596 [==============================] - 3s 8us/step - loss: 147.8665 - val_loss: 169.9220\n",
            "Epoch 45/100\n",
            "345596/345596 [==============================] - 3s 8us/step - loss: 145.0197 - val_loss: 159.0281\n",
            "Epoch 46/100\n",
            "345596/345596 [==============================] - 3s 8us/step - loss: 144.9201 - val_loss: 143.5390\n",
            "Epoch 47/100\n",
            "345596/345596 [==============================] - 3s 8us/step - loss: 143.5505 - val_loss: 161.1764\n",
            "Epoch 48/100\n",
            "345596/345596 [==============================] - 3s 8us/step - loss: 141.6935 - val_loss: 150.3841\n",
            "Epoch 49/100\n",
            "345596/345596 [==============================] - 3s 8us/step - loss: 140.0241 - val_loss: 144.2473\n",
            "Epoch 50/100\n",
            "345596/345596 [==============================] - 3s 8us/step - loss: 138.6948 - val_loss: 138.4675\n",
            "Epoch 51/100\n",
            "345596/345596 [==============================] - 3s 8us/step - loss: 137.6540 - val_loss: 146.5117\n",
            "Epoch 52/100\n",
            "345596/345596 [==============================] - 3s 8us/step - loss: 137.0745 - val_loss: 145.2376\n",
            "Epoch 53/100\n",
            "345596/345596 [==============================] - 3s 8us/step - loss: 135.2761 - val_loss: 147.9293\n",
            "Epoch 54/100\n",
            "345596/345596 [==============================] - 3s 8us/step - loss: 133.8898 - val_loss: 136.4222\n",
            "Epoch 55/100\n",
            "345596/345596 [==============================] - 3s 8us/step - loss: 132.9768 - val_loss: 147.8325\n",
            "Epoch 56/100\n",
            "345596/345596 [==============================] - 3s 9us/step - loss: 132.0109 - val_loss: 116.3681\n",
            "Epoch 57/100\n",
            "345596/345596 [==============================] - 3s 8us/step - loss: 129.8074 - val_loss: 135.6605\n",
            "Epoch 58/100\n",
            "345596/345596 [==============================] - 3s 8us/step - loss: 128.0232 - val_loss: 132.6288\n",
            "Epoch 59/100\n",
            "345596/345596 [==============================] - 3s 8us/step - loss: 127.6620 - val_loss: 133.9947\n",
            "Epoch 60/100\n",
            "345596/345596 [==============================] - 3s 8us/step - loss: 125.5585 - val_loss: 120.8655\n",
            "Epoch 61/100\n",
            "345596/345596 [==============================] - 3s 8us/step - loss: 124.0892 - val_loss: 128.2850\n",
            "Epoch 62/100\n",
            "345596/345596 [==============================] - 3s 8us/step - loss: 122.2024 - val_loss: 116.2967\n",
            "Epoch 63/100\n",
            "345596/345596 [==============================] - 3s 8us/step - loss: 120.9050 - val_loss: 126.5784\n",
            "Epoch 64/100\n",
            "345596/345596 [==============================] - 3s 8us/step - loss: 119.3059 - val_loss: 124.5084\n",
            "Epoch 65/100\n",
            "345596/345596 [==============================] - 3s 8us/step - loss: 117.8984 - val_loss: 110.1764\n",
            "Epoch 66/100\n",
            "345596/345596 [==============================] - 3s 8us/step - loss: 117.0035 - val_loss: 112.5222\n",
            "Epoch 67/100\n",
            "345596/345596 [==============================] - 3s 8us/step - loss: 115.6160 - val_loss: 116.8636\n",
            "Epoch 68/100\n",
            "345596/345596 [==============================] - 3s 8us/step - loss: 113.8534 - val_loss: 122.5026\n",
            "Epoch 69/100\n",
            "345596/345596 [==============================] - 3s 8us/step - loss: 112.7253 - val_loss: 101.3291\n",
            "Epoch 70/100\n",
            "345596/345596 [==============================] - 3s 8us/step - loss: 110.7429 - val_loss: 114.4821\n",
            "Epoch 71/100\n",
            "345596/345596 [==============================] - 3s 8us/step - loss: 109.1912 - val_loss: 115.0982\n",
            "Epoch 72/100\n",
            "345596/345596 [==============================] - 3s 8us/step - loss: 107.6939 - val_loss: 112.9525\n",
            "Epoch 73/100\n",
            "345596/345596 [==============================] - 3s 8us/step - loss: 106.1795 - val_loss: 100.7542\n",
            "Epoch 74/100\n",
            "345596/345596 [==============================] - 3s 8us/step - loss: 104.8544 - val_loss: 104.6253\n",
            "Epoch 75/100\n",
            "345596/345596 [==============================] - 3s 8us/step - loss: 103.6330 - val_loss: 93.3692\n",
            "Epoch 76/100\n",
            "345596/345596 [==============================] - 3s 8us/step - loss: 101.4790 - val_loss: 114.8027\n",
            "Epoch 77/100\n",
            "345596/345596 [==============================] - 3s 8us/step - loss: 99.7638 - val_loss: 115.4169\n",
            "Epoch 78/100\n",
            "345596/345596 [==============================] - 3s 8us/step - loss: 98.3920 - val_loss: 97.4909\n",
            "Epoch 79/100\n",
            "345596/345596 [==============================] - 3s 8us/step - loss: 96.1995 - val_loss: 100.7164\n",
            "Epoch 80/100\n",
            "345596/345596 [==============================] - 3s 8us/step - loss: 93.9566 - val_loss: 97.6433\n",
            "Epoch 81/100\n",
            "345596/345596 [==============================] - 3s 8us/step - loss: 91.6782 - val_loss: 92.4517\n",
            "Epoch 82/100\n",
            "345596/345596 [==============================] - 3s 8us/step - loss: 88.0029 - val_loss: 87.3614\n",
            "Epoch 83/100\n",
            "345596/345596 [==============================] - 3s 8us/step - loss: 87.3345 - val_loss: 88.9243\n",
            "Epoch 84/100\n",
            "345596/345596 [==============================] - 3s 8us/step - loss: 86.8820 - val_loss: 87.1155\n",
            "Epoch 85/100\n",
            "345596/345596 [==============================] - 3s 8us/step - loss: 86.5892 - val_loss: 87.0775\n",
            "Epoch 86/100\n",
            "345596/345596 [==============================] - 3s 8us/step - loss: 86.3859 - val_loss: 87.3712\n",
            "Epoch 87/100\n",
            "345596/345596 [==============================] - 3s 8us/step - loss: 86.2616 - val_loss: 87.7381\n",
            "Epoch 88/100\n",
            "345596/345596 [==============================] - 3s 8us/step - loss: 86.1346 - val_loss: 87.8039\n",
            "Epoch 89/100\n",
            "345596/345596 [==============================] - 3s 8us/step - loss: 85.8867 - val_loss: 88.7138\n",
            "Epoch 90/100\n",
            "345596/345596 [==============================] - 3s 8us/step - loss: 85.7751 - val_loss: 88.0958\n",
            "Epoch 91/100\n",
            "345596/345596 [==============================] - 3s 8us/step - loss: 85.7480 - val_loss: 88.3309\n",
            "Epoch 92/100\n",
            "345596/345596 [==============================] - 3s 9us/step - loss: 85.4173 - val_loss: 87.4978\n",
            "Epoch 93/100\n",
            "345596/345596 [==============================] - 3s 8us/step - loss: 85.4193 - val_loss: 87.4847\n",
            "Epoch 94/100\n",
            "345596/345596 [==============================] - 3s 8us/step - loss: 85.4058 - val_loss: 86.3113\n",
            "Epoch 95/100\n",
            "345596/345596 [==============================] - 3s 8us/step - loss: 85.1544 - val_loss: 86.0476\n",
            "Epoch 96/100\n",
            "345596/345596 [==============================] - 3s 8us/step - loss: 85.4325 - val_loss: 86.0201\n",
            "Epoch 97/100\n",
            "345596/345596 [==============================] - 3s 8us/step - loss: 85.1409 - val_loss: 88.8537\n",
            "Epoch 98/100\n",
            "345596/345596 [==============================] - 3s 8us/step - loss: 84.8793 - val_loss: 86.1281\n",
            "Epoch 99/100\n",
            "345596/345596 [==============================] - 3s 8us/step - loss: 84.7256 - val_loss: 86.8524\n",
            "Epoch 100/100\n",
            "345596/345596 [==============================] - 3s 8us/step - loss: 84.9254 - val_loss: 86.7006\n"
          ],
          "name": "stdout"
        }
      ]
    },
    {
      "cell_type": "code",
      "metadata": {
        "id": "hq6SbNklpR4W",
        "colab_type": "code",
        "colab": {}
      },
      "source": [
        "# save model and weights\n",
        "\n",
        "# serialize model to JSON\n",
        "model_json = model.to_json()\n",
        "with open(path/'keras/keras_model.json', 'w') as json_file:\n",
        "    json_file.write(model_json)\n",
        "    \n",
        "# serialize weights to HDF5\n",
        "model.save_weights(path/'keras/keras_model.h5')"
      ],
      "execution_count": 0,
      "outputs": []
    },
    {
      "cell_type": "code",
      "metadata": {
        "id": "it726xME7GZr",
        "colab_type": "code",
        "colab": {
          "base_uri": "https://localhost:8080/",
          "height": 51
        },
        "outputId": "31053c20-af25-439d-a052-d4a6bc9cc3f6"
      },
      "source": [
        "# reload json and create model\n",
        "json_open = open(path/'keras/keras_model.json', 'r')\n",
        "json_file = json_open.read()\n",
        "json_open.close()\n",
        "model = model_from_json(json_file)\n",
        "\n",
        "# load saved weights into model\n",
        "model.load_weights(path/'keras/keras_model.h5')\n",
        "\n",
        "# make a prediction using test data\n",
        "test_sample = np.array([xTest[0,]]) # need this to set input to expected dimension\n",
        "pred = model.predict(test_sample).ravel()[0]\n",
        "targ = yTest[0]\n",
        "print('mean_travel_time prediction: {}'.format(round(pred.astype('float'),2)))\n",
        "print('mean_travel_time target:     {}'.format(targ))"
      ],
      "execution_count": 121,
      "outputs": [
        {
          "output_type": "stream",
          "text": [
            "mean_travel_time prediction: 3003.44\n",
            "mean_travel_time target:     3021.64\n"
          ],
          "name": "stdout"
        }
      ]
    },
    {
      "cell_type": "code",
      "metadata": {
        "id": "2yxoxRJq_wn0",
        "colab_type": "code",
        "colab": {
          "base_uri": "https://localhost:8080/",
          "height": 34
        },
        "outputId": "0f73c668-e1f7-4548-c2b2-8169b6325754"
      },
      "source": [
        "# evaluate model on test set\n",
        "model.compile(loss='mean_absolute_error', optimizer=Adadelta(), metrics=['mean_absolute_error'])\n",
        "mae_keras = model.evaluate(xTest, yTest, verbose=0)[0]\n",
        "\n",
        "print('Mean Absolute Error using keras neural net: {}'.format(round(mae_keras, 2)))"
      ],
      "execution_count": 153,
      "outputs": [
        {
          "output_type": "stream",
          "text": [
            "Mean Absolute Error using keras neural net: 86.92\n"
          ],
          "name": "stdout"
        }
      ]
    },
    {
      "cell_type": "markdown",
      "metadata": {
        "id": "osnr5PQvFE5T",
        "colab_type": "text"
      },
      "source": [
        "Given the performance of the Fastai model, the Keras model likely has room for improvement."
      ]
    },
    {
      "cell_type": "markdown",
      "metadata": {
        "id": "agCcET2gFbX6",
        "colab_type": "text"
      },
      "source": [
        "### Summary of model performance"
      ]
    },
    {
      "cell_type": "code",
      "metadata": {
        "id": "APnGTQHSFjMU",
        "colab_type": "code",
        "colab": {
          "base_uri": "https://localhost:8080/",
          "height": 136
        },
        "outputId": "8d8db6a6-883a-435a-d7f0-8fd34e1ca900"
      },
      "source": [
        "print('Mean Average Errors:\\n')\n",
        "print('{:<30} {:>10}'.format('Median prediction' ,round(mae_med, 2)))\n",
        "print('{:<30} {:>10}'.format('Linear regression', round(mae_lr, 2)))\n",
        "print('{:<30} {:>10}'.format('Random forest regression', round(mae_rf_best, 2)))\n",
        "print('{:<30} {:>10}'.format('Neural Network (Fastai)', round(mae_nn, 2)))\n",
        "print('{:<30} {:>10}'.format('Neural Network (Keras)', round(mae_keras, 2)))"
      ],
      "execution_count": 168,
      "outputs": [
        {
          "output_type": "stream",
          "text": [
            "Mean Average Errors:\n",
            "\n",
            "Median prediction                  446.02\n",
            "Linear regression                  166.03\n",
            "Random forest regression            89.56\n",
            "Neural Network (Fastai)             37.98\n",
            "Neural Network (Keras)              86.92\n"
          ],
          "name": "stdout"
        }
      ]
    },
    {
      "cell_type": "markdown",
      "metadata": {
        "id": "g1G5yjoCL3WW",
        "colab_type": "text"
      },
      "source": [
        "The errors for each these models could be further reduced by additional hyperparameter tuning. However, the Fastai model shows the most promise, given its simplicity and fast training. Using mostly default parameters, it fits with 56% lower MAE on test data than the Keras model."
      ]
    }
  ]
}